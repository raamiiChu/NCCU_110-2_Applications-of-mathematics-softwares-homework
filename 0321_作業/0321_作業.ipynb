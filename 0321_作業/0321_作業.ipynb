{
  "cells": [
    {
      "cell_type": "markdown",
      "metadata": {
        "id": "view-in-github",
        "colab_type": "text"
      },
      "source": [
        "<a href=\"https://colab.research.google.com/github/raamiiChu/NCCU_110-2_Applications-of-mathematics-softwares-homework/blob/main/0321_%E4%BD%9C%E6%A5%AD/0321_%E4%BD%9C%E6%A5%AD.ipynb\" target=\"_parent\"><img src=\"https://colab.research.google.com/assets/colab-badge.svg\" alt=\"Open In Colab\"/></a>"
      ]
    },
    {
      "cell_type": "markdown",
      "source": [
        "# <font color=#FF0000>更改處皆以紅色字體標示在對應程式碼上方</font>\n",
        "\n"
      ],
      "metadata": {
        "id": "WyuN9qYaYx7r"
      }
    },
    {
      "cell_type": "markdown",
      "source": [
        "### 更改概要"
      ],
      "metadata": {
        "id": "-i-q511ASxNi"
      }
    },
    {
      "cell_type": "markdown",
      "source": [
        "\n",
        "1.   匯入 Adam 優化器\n",
        "\n",
        "2.   新增一個隱藏層\n",
        "3.   神經元個數分別修改為 50, 100, 200\n",
        "4.   激發函數修改為 \"sigmoid\"\n",
        "5.   loss function 修改為 \"squared_hinge\"\n",
        "6.   優化器修改為 Adam\n",
        "7.   learning rate 修改為 0.005\n",
        "8.   batch size 修改為 300\n",
        "9.   epochs 修改為 50\n",
        "10.  從 ipywidgets 匯入 interact 模組"
      ],
      "metadata": {
        "id": "FNEKsXCSSv8l"
      }
    },
    {
      "cell_type": "markdown",
      "source": [
        "### 0. 匯入相關模組"
      ],
      "metadata": {
        "id": "hw4WAjbxSsBK"
      }
    },
    {
      "cell_type": "code",
      "execution_count": null,
      "metadata": {
        "id": "DEi2mXryyj4h"
      },
      "outputs": [],
      "source": [
        "%matplotlib inline\n",
        "\n",
        "import numpy as np\n",
        "import pandas as pd\n",
        "import matplotlib.pyplot as plt"
      ]
    },
    {
      "cell_type": "markdown",
      "source": [
        "<font color=#FF0000>匯入 Adam 優化器</font> （原本是SGD）"
      ],
      "metadata": {
        "id": "Ix-t1u3UXzEk"
      }
    },
    {
      "cell_type": "code",
      "execution_count": null,
      "metadata": {
        "id": "zkJA1VpWyj4j"
      },
      "outputs": [],
      "source": [
        "from tensorflow.keras.utils import to_categorical  # one hot encoding\n",
        "from tensorflow.keras.models import Sequential  # 函數學習機\n",
        "from tensorflow.keras.layers import Dense  # 隱藏層\n",
        "from tensorflow.keras.optimizers import Adam  # 優化器(學習方法)"
      ]
    },
    {
      "cell_type": "markdown",
      "metadata": {
        "id": "JyJv4vGZyj4k"
      },
      "source": [
        "### 1. 讀入 MNIST 數據集"
      ]
    },
    {
      "cell_type": "code",
      "execution_count": null,
      "metadata": {
        "id": "J5xv8zkbyj4k"
      },
      "outputs": [],
      "source": [
        "from tensorflow.keras.datasets import mnist"
      ]
    },
    {
      "cell_type": "code",
      "execution_count": null,
      "metadata": {
        "id": "sJxUPSS6yj4l"
      },
      "outputs": [],
      "source": [
        "(x_train, y_train), (x_test, y_test) = mnist.load_data()"
      ]
    },
    {
      "cell_type": "markdown",
      "metadata": {
        "id": "6oFZw4Tqyj4m"
      },
      "source": [
        "### 2. 欣賞數據集內容 (非執行必要)"
      ]
    },
    {
      "cell_type": "code",
      "execution_count": null,
      "metadata": {
        "colab": {
          "base_uri": "https://localhost:8080/"
        },
        "id": "SD9q5be2yj4m",
        "outputId": "6d8f138e-8717-4d8c-de5b-c83a148e9da9"
      },
      "outputs": [
        {
          "output_type": "execute_result",
          "data": {
            "text/plain": [
              "60000"
            ]
          },
          "metadata": {},
          "execution_count": 5
        }
      ],
      "source": [
        "len(x_train)"
      ]
    },
    {
      "cell_type": "code",
      "execution_count": null,
      "metadata": {
        "colab": {
          "base_uri": "https://localhost:8080/"
        },
        "id": "HHajNlmDyj4n",
        "outputId": "f23b53d6-f7ba-4450-f7f2-23d563acfbcf"
      },
      "outputs": [
        {
          "output_type": "execute_result",
          "data": {
            "text/plain": [
              "10000"
            ]
          },
          "metadata": {},
          "execution_count": 6
        }
      ],
      "source": [
        "len(x_test)"
      ]
    },
    {
      "cell_type": "code",
      "execution_count": null,
      "metadata": {
        "colab": {
          "base_uri": "https://localhost:8080/"
        },
        "id": "2Jph4X4DS6QU",
        "outputId": "187e4020-470e-4508-b08e-37b05481aee1"
      },
      "outputs": [
        {
          "output_type": "execute_result",
          "data": {
            "text/plain": [
              "(60000, 28, 28)"
            ]
          },
          "metadata": {},
          "execution_count": 7
        }
      ],
      "source": [
        "x_train.shape"
      ]
    },
    {
      "cell_type": "code",
      "execution_count": null,
      "metadata": {
        "colab": {
          "base_uri": "https://localhost:8080/"
        },
        "id": "HYuW-09mS9tm",
        "outputId": "36079707-1e9b-4b32-dd1b-d5d9423ef6ab"
      },
      "outputs": [
        {
          "output_type": "execute_result",
          "data": {
            "text/plain": [
              "(60000,)"
            ]
          },
          "metadata": {},
          "execution_count": 8
        }
      ],
      "source": [
        "y_train.shape"
      ]
    },
    {
      "cell_type": "code",
      "execution_count": null,
      "metadata": {
        "colab": {
          "base_uri": "https://localhost:8080/"
        },
        "id": "ZXrKi9BhTF5V",
        "outputId": "ea2962b4-9294-4db8-e731-1f764511f556"
      },
      "outputs": [
        {
          "output_type": "execute_result",
          "data": {
            "text/plain": [
              "(10000, 28, 28)"
            ]
          },
          "metadata": {},
          "execution_count": 9
        }
      ],
      "source": [
        "x_test.shape"
      ]
    },
    {
      "cell_type": "code",
      "execution_count": null,
      "metadata": {
        "colab": {
          "base_uri": "https://localhost:8080/"
        },
        "id": "-I88HhZ7TJSi",
        "outputId": "b4cd015f-abbb-4ab5-cd59-05719aa09b6f"
      },
      "outputs": [
        {
          "output_type": "execute_result",
          "data": {
            "text/plain": [
              "(10000,)"
            ]
          },
          "metadata": {},
          "execution_count": 10
        }
      ],
      "source": [
        "y_test.shape"
      ]
    },
    {
      "cell_type": "code",
      "execution_count": null,
      "metadata": {
        "id": "fkk2kEgayj4n"
      },
      "outputs": [],
      "source": [
        "n = 9000"
      ]
    },
    {
      "cell_type": "code",
      "execution_count": null,
      "metadata": {
        "colab": {
          "base_uri": "https://localhost:8080/"
        },
        "id": "jmRbVGfIyj4o",
        "outputId": "3f3c494e-76e2-435b-c9c0-25666f7134a9"
      },
      "outputs": [
        {
          "output_type": "execute_result",
          "data": {
            "text/plain": [
              "array([[  0,   0,   0,   0,   0,   0,   0,   0,   0,   0,   0,   0,   0,\n",
              "          0,   0,   0,   0,   0,   0,   0,   0,   0,   0,   0,   0,   0,\n",
              "          0,   0],\n",
              "       [  0,   0,   0,   0,   0,   0,   0,   0,   0,   0,   0,   0,   0,\n",
              "          0,   0,   0,   0,   0,   0,   0,   0,   0,   0,   0,   0,   0,\n",
              "          0,   0],\n",
              "       [  0,   0,   0,   0,   0,   0,   0,   0,   0,   0,   0,   0,   0,\n",
              "          0,   0,   0,   0,   0,   0,   0,   0,   0,   0,   0,   0,   0,\n",
              "          0,   0],\n",
              "       [  0,   0,   0,   0,   0,   0,   0,   0,   0,   0,   0,   0,   0,\n",
              "          0,   0,   0,   0,   0,   0,   0,   0,   0,   0,   0,   0,   0,\n",
              "          0,   0],\n",
              "       [  0,   0,   0,   0,   0,   0,   0,   0,  41, 239, 253, 253, 253,\n",
              "        174,   0,   0,   0,   0,   0,   0,   0,   0,   0,   0,   0,   0,\n",
              "          0,   0],\n",
              "       [  0,   0,   0,   0,   0,   0,   0,   0, 175, 251, 251, 251, 251,\n",
              "        173,   0,   0,   0,   0,   0,   0,   0,   0,   0,   0,   0,   0,\n",
              "          0,   0],\n",
              "       [  0,   0,   0,   0,   0,   0,   0,  82, 228, 251, 251, 251, 251,\n",
              "        173,   0,   0,   0,   0,   0,   0,   0,   0,   0,   0,   0,   0,\n",
              "          0,   0],\n",
              "       [  0,   0,   0,   0,   0,   0,  10, 137, 251, 251, 236,  92,  18,\n",
              "         13,   0,   0,   0,   0,   0,   0,   0,   0,   0,   0,   0,   0,\n",
              "          0,   0],\n",
              "       [  0,   0,   0,   0,   0,   0,  59, 251, 251, 251, 153,   0,   0,\n",
              "          0,   0,   0,   0,   0,   0,   0,   0,   0,   0,   0,   0,   0,\n",
              "          0,   0],\n",
              "       [  0,   0,   0,   0,   0,   0,  59, 251, 251, 226,  59,   0,   0,\n",
              "          0,   0,   0,   0,   0, 109, 155,  96,   0,   0,   0,   0,   0,\n",
              "          0,   0],\n",
              "       [  0,   0,   0,   0,   0,   0,  59, 251, 251, 212,   0,   0,   0,\n",
              "          0,   0,  16, 215, 214, 239, 251, 236, 214,  47,   0,   0,   0,\n",
              "          0,   0],\n",
              "       [  0,   0,   0,   0,   0,   0, 119, 251, 251, 212,   0,   0,   0,\n",
              "         25,  78, 212, 253, 251, 251, 251, 251, 251, 237,  54,   0,   0,\n",
              "          0,   0],\n",
              "       [  0,   0,   0,   0,   0,   0, 253, 251, 251, 212,   0,   0,   0,\n",
              "         78, 251, 251, 253, 251, 251, 251, 251, 251, 251, 215,  63,   0,\n",
              "          0,   0],\n",
              "       [  0,   0,   0,   0,   0,   0, 253, 251, 251, 212,   0,   0,  16,\n",
              "        212, 251, 251, 253, 251, 251, 220, 131, 251, 251, 251, 220,  44,\n",
              "          0,   0],\n",
              "       [  0,   0,   0,   0,   0,   0, 255, 253, 253, 213,   0,  37, 224,\n",
              "        253, 253, 253, 150,   0,   0,   0,   0,   0, 215, 253, 253,  57,\n",
              "          0,   0],\n",
              "       [  0,   0,   0,   0,   0,   0, 253, 251, 251, 212,   0, 155, 251,\n",
              "        251, 251, 160,   0,   0,   0,   0,   0,   0, 214, 251, 251,  57,\n",
              "          0,   0],\n",
              "       [  0,   0,   0,   0,   0,   0, 253, 251, 251, 239, 175, 222, 251,\n",
              "        251, 251,  57,   0,   0,   0,   0,   0, 109, 239, 251, 156,  18,\n",
              "          0,   0],\n",
              "       [  0,   0,   0,   0,   0,   0, 222, 251, 251, 251, 251, 251, 251,\n",
              "        239, 107,   4,   0,   0,   0,  37, 115, 244, 251, 239,  98,   0,\n",
              "          0,   0],\n",
              "       [  0,   0,   0,   0,   0,   0,  59, 251, 251, 251, 251, 251, 251,\n",
              "        173,   0,   0,  23,  98,  98, 240, 251, 251, 243, 107,   0,   0,\n",
              "          0,   0],\n",
              "       [  0,   0,   0,   0,   0,   0,  59, 251, 251, 251, 251, 251, 251,\n",
              "        221, 155, 155, 179, 251, 251, 251, 251, 251, 231,   0,   0,   0,\n",
              "          0,   0],\n",
              "       [  0,   0,   0,   0,   0,   0,   9,  37, 172, 249, 251, 251, 251,\n",
              "        251, 251, 251, 253, 251, 237, 231, 156,  37,  35,   0,   0,   0,\n",
              "          0,   0],\n",
              "       [  0,   0,   0,   0,   0,   0,   0,   0,   0, 161, 203, 251, 251,\n",
              "        251, 251, 251, 174, 173,  53,   0,   0,   0,   0,   0,   0,   0,\n",
              "          0,   0],\n",
              "       [  0,   0,   0,   0,   0,   0,   0,   0,   0,   0,  45, 199, 251,\n",
              "        251, 251, 145,   0,   0,   0,   0,   0,   0,   0,   0,   0,   0,\n",
              "          0,   0],\n",
              "       [  0,   0,   0,   0,   0,   0,   0,   0,   0,   0,   0,  36,  72,\n",
              "        190,  57,  13,   0,   0,   0,   0,   0,   0,   0,   0,   0,   0,\n",
              "          0,   0],\n",
              "       [  0,   0,   0,   0,   0,   0,   0,   0,   0,   0,   0,   0,   0,\n",
              "          0,   0,   0,   0,   0,   0,   0,   0,   0,   0,   0,   0,   0,\n",
              "          0,   0],\n",
              "       [  0,   0,   0,   0,   0,   0,   0,   0,   0,   0,   0,   0,   0,\n",
              "          0,   0,   0,   0,   0,   0,   0,   0,   0,   0,   0,   0,   0,\n",
              "          0,   0],\n",
              "       [  0,   0,   0,   0,   0,   0,   0,   0,   0,   0,   0,   0,   0,\n",
              "          0,   0,   0,   0,   0,   0,   0,   0,   0,   0,   0,   0,   0,\n",
              "          0,   0],\n",
              "       [  0,   0,   0,   0,   0,   0,   0,   0,   0,   0,   0,   0,   0,\n",
              "          0,   0,   0,   0,   0,   0,   0,   0,   0,   0,   0,   0,   0,\n",
              "          0,   0]], dtype=uint8)"
            ]
          },
          "metadata": {},
          "execution_count": 12
        }
      ],
      "source": [
        "x_train[n]"
      ]
    },
    {
      "cell_type": "code",
      "execution_count": null,
      "metadata": {
        "colab": {
          "base_uri": "https://localhost:8080/"
        },
        "id": "Xk_HZ7jlyj4o",
        "outputId": "2b1bc8bd-2660-44bb-908e-2a3be63bbeea"
      },
      "outputs": [
        {
          "output_type": "execute_result",
          "data": {
            "text/plain": [
              "6"
            ]
          },
          "metadata": {},
          "execution_count": 13
        }
      ],
      "source": [
        "y_train[n]"
      ]
    },
    {
      "cell_type": "code",
      "execution_count": null,
      "metadata": {
        "colab": {
          "base_uri": "https://localhost:8080/"
        },
        "id": "6R_hyd4Tyj4o",
        "outputId": "adc47ef0-c3cf-45af-be47-e41fda77bee0"
      },
      "outputs": [
        {
          "output_type": "execute_result",
          "data": {
            "text/plain": [
              "<matplotlib.image.AxesImage at 0x7fea197568d0>"
            ]
          },
          "metadata": {},
          "execution_count": 14
        },
        {
          "output_type": "display_data",
          "data": {
            "text/plain": [
              "<Figure size 432x288 with 1 Axes>"
            ],
            "image/png": "[encoded data removed]"
          },
          "metadata": {
            "needs_background": "light"
          }
        }
      ],
      "source": [
        "plt.imshow(x_train[n], cmap='Greys')"
      ]
    },
    {
      "cell_type": "markdown",
      "metadata": {
        "id": "JtMuHcBnyj4o"
      },
      "source": [
        "### 3. 資料整理"
      ]
    },
    {
      "cell_type": "markdown",
      "metadata": {
        "id": "aqGUiBbsyj4p"
      },
      "source": [
        "先看個範例, 因為 `numpy` 「廣播」的特性, 我們對 `array` 中所有數字要同除以一個數可瞬間完成!"
      ]
    },
    {
      "cell_type": "code",
      "execution_count": null,
      "metadata": {
        "id": "ztNByJRPyj4p"
      },
      "outputs": [],
      "source": [
        "x_train = x_train.reshape(60000, 784)/255\n",
        "x_test = x_test.reshape(10000, 784)/255"
      ]
    },
    {
      "cell_type": "code",
      "execution_count": null,
      "metadata": {
        "id": "V84Rvl6Syj4p"
      },
      "outputs": [],
      "source": [
        "y_train = to_categorical(y_train, 10)\n",
        "y_test = to_categorical(y_test, 10)"
      ]
    },
    {
      "cell_type": "markdown",
      "metadata": {
        "id": "fegPHmLAyj4p"
      },
      "source": [
        "### 4. step 1: 打造神經網路"
      ]
    },
    {
      "cell_type": "markdown",
      "source": [
        "*   <font color=#FF0000>新增一個隱藏層</font>\n",
        "*   <font color=#FF0000>神經元個數分別修改為 50, 100, 200</font>\n",
        "*   <font color=#FF0000>激發函數修改為 \"sigmoid\" （課堂上有提到過）</font>"
      ],
      "metadata": {
        "id": "lzq_YRzPaXyv"
      }
    },
    {
      "cell_type": "code",
      "execution_count": null,
      "metadata": {
        "id": "8H9fHM05yj4p"
      },
      "outputs": [],
      "source": [
        "model = Sequential()"
      ]
    },
    {
      "cell_type": "code",
      "execution_count": null,
      "metadata": {
        "id": "zL-TElJiyj4q"
      },
      "outputs": [],
      "source": [
        "model.add(Dense(50, input_dim=784, activation='sigmoid'))  # (神經元個數, 輸入維度, 激發函數)"
      ]
    },
    {
      "cell_type": "code",
      "execution_count": null,
      "metadata": {
        "id": "Pvqjrvcoyj4q"
      },
      "outputs": [],
      "source": [
        "model.add(Dense(100, activation='sigmoid'))"
      ]
    },
    {
      "cell_type": "code",
      "execution_count": null,
      "metadata": {
        "id": "nW4cAkdSW58_"
      },
      "outputs": [],
      "source": [
        "model.add(Dense(200, activation='sigmoid'))"
      ]
    },
    {
      "cell_type": "code",
      "execution_count": null,
      "metadata": {
        "id": "rc1FGyR2yj4q"
      },
      "outputs": [],
      "source": [
        "model.add(Dense(10, activation='softmax'))  # 加起來等於1"
      ]
    },
    {
      "cell_type": "markdown",
      "metadata": {
        "id": "0YWYsTj8yj4q"
      },
      "source": [
        "#### 組裝我們的神經網路"
      ]
    },
    {
      "cell_type": "markdown",
      "source": [
        "[loss function 相關解釋文章（簡中）](https://blog.csdn.net/lyb3b3b/article/details/76962651)\n",
        "*   <font color=#FF0000>loss function 修改為 \"squared_hinge\"</font>\n",
        "*   <font color=#FF0000>優化器修改為 Adam</font>\n",
        "*   <font color=#FF0000>learning rate 修改為 0.005</font>"
      ],
      "metadata": {
        "id": "qpqXhW-Eag59"
      }
    },
    {
      "cell_type": "code",
      "execution_count": null,
      "metadata": {
        "id": "j18Wnbnsyj4q"
      },
      "outputs": [],
      "source": [
        "model.compile(loss='squared_hinge', optimizer=Adam(learning_rate=0.005), \n",
        "              metrics=['accuracy'])"
      ]
    },
    {
      "cell_type": "markdown",
      "metadata": {
        "id": "-ms0idguyj4r"
      },
      "source": [
        "#### 欣賞我們的作品"
      ]
    },
    {
      "cell_type": "code",
      "execution_count": null,
      "metadata": {
        "colab": {
          "base_uri": "https://localhost:8080/"
        },
        "id": "GNuaHo6kyj4r",
        "outputId": "17a05f34-589d-4d22-ccd3-fb9b0fe698d6"
      },
      "outputs": [
        {
          "output_type": "stream",
          "name": "stdout",
          "text": [
            "Model: \"sequential\"\n",
            "_________________________________________________________________\n",
            " Layer (type)                Output Shape              Param #   \n",
            "=================================================================\n",
            " dense (Dense)               (None, 50)                39250     \n",
            "                                                                 \n",
            " dense_1 (Dense)             (None, 100)               5100      \n",
            "                                                                 \n",
            " dense_2 (Dense)             (None, 200)               20200     \n",
            "                                                                 \n",
            " dense_3 (Dense)             (None, 10)                2010      \n",
            "                                                                 \n",
            "=================================================================\n",
            "Total params: 66,560\n",
            "Trainable params: 66,560\n",
            "Non-trainable params: 0\n",
            "_________________________________________________________________\n"
          ]
        }
      ],
      "source": [
        "model.summary()"
      ]
    },
    {
      "cell_type": "markdown",
      "metadata": {
        "id": "4IeweJmpyj4r"
      },
      "source": [
        "### 5. step 2: 訓練"
      ]
    },
    {
      "cell_type": "markdown",
      "source": [
        "*   <font color=#FF0000>batch size 修改為 300</font>\n",
        "*   <font color=#FF0000>epochs 修改為 50</font>"
      ],
      "metadata": {
        "id": "Nqt_vlpMcLfK"
      }
    },
    {
      "cell_type": "code",
      "execution_count": null,
      "metadata": {
        "colab": {
          "base_uri": "https://localhost:8080/"
        },
        "id": "mSMj24QSyj4r",
        "scrolled": true,
        "outputId": "4a14350c-62c9-40e5-b1e9-6e5d0c26d1d8"
      },
      "outputs": [
        {
          "output_type": "stream",
          "name": "stdout",
          "text": [
            "Epoch 1/50\n",
            "200/200 [==============================] - 2s 5ms/step - loss: 0.9963 - accuracy: 0.7390\n",
            "Epoch 2/50\n",
            "200/200 [==============================] - 1s 5ms/step - loss: 0.9261 - accuracy: 0.9338\n",
            "Epoch 3/50\n",
            "200/200 [==============================] - 1s 5ms/step - loss: 0.9198 - accuracy: 0.9495\n",
            "Epoch 4/50\n",
            "200/200 [==============================] - 1s 5ms/step - loss: 0.9166 - accuracy: 0.9575\n",
            "Epoch 5/50\n",
            "200/200 [==============================] - 1s 5ms/step - loss: 0.9148 - accuracy: 0.9620\n",
            "Epoch 6/50\n",
            "200/200 [==============================] - 1s 5ms/step - loss: 0.9135 - accuracy: 0.9650\n",
            "Epoch 7/50\n",
            "200/200 [==============================] - 1s 5ms/step - loss: 0.9120 - accuracy: 0.9692\n",
            "Epoch 8/50\n",
            "200/200 [==============================] - 1s 5ms/step - loss: 0.9112 - accuracy: 0.9710\n",
            "Epoch 9/50\n",
            "200/200 [==============================] - 1s 5ms/step - loss: 0.9102 - accuracy: 0.9735\n",
            "Epoch 10/50\n",
            "200/200 [==============================] - 1s 5ms/step - loss: 0.9098 - accuracy: 0.9748\n",
            "Epoch 11/50\n",
            "200/200 [==============================] - 1s 5ms/step - loss: 0.9093 - accuracy: 0.9763\n",
            "Epoch 12/50\n",
            "200/200 [==============================] - 1s 5ms/step - loss: 0.9088 - accuracy: 0.9779\n",
            "Epoch 13/50\n",
            "200/200 [==============================] - 1s 5ms/step - loss: 0.9089 - accuracy: 0.9773\n",
            "Epoch 14/50\n",
            "200/200 [==============================] - 1s 4ms/step - loss: 0.9082 - accuracy: 0.9791\n",
            "Epoch 15/50\n",
            "200/200 [==============================] - 1s 6ms/step - loss: 0.9077 - accuracy: 0.9804\n",
            "Epoch 16/50\n",
            "200/200 [==============================] - 2s 8ms/step - loss: 0.9075 - accuracy: 0.9808\n",
            "Epoch 17/50\n",
            "200/200 [==============================] - 2s 8ms/step - loss: 0.9076 - accuracy: 0.9807\n",
            "Epoch 18/50\n",
            "200/200 [==============================] - 2s 9ms/step - loss: 0.9072 - accuracy: 0.9817\n",
            "Epoch 19/50\n",
            "200/200 [==============================] - 1s 7ms/step - loss: 0.9072 - accuracy: 0.9816\n",
            "Epoch 20/50\n",
            "200/200 [==============================] - 1s 5ms/step - loss: 0.9066 - accuracy: 0.9833\n",
            "Epoch 21/50\n",
            "200/200 [==============================] - 1s 5ms/step - loss: 0.9068 - accuracy: 0.9827\n",
            "Epoch 22/50\n",
            "200/200 [==============================] - 1s 5ms/step - loss: 0.9067 - accuracy: 0.9826\n",
            "Epoch 23/50\n",
            "200/200 [==============================] - 1s 5ms/step - loss: 0.9068 - accuracy: 0.9827\n",
            "Epoch 24/50\n",
            "200/200 [==============================] - 1s 5ms/step - loss: 0.9064 - accuracy: 0.9834\n",
            "Epoch 25/50\n",
            "200/200 [==============================] - 1s 5ms/step - loss: 0.9063 - accuracy: 0.9837\n",
            "Epoch 26/50\n",
            "200/200 [==============================] - 1s 5ms/step - loss: 0.9065 - accuracy: 0.9832\n",
            "Epoch 27/50\n",
            "200/200 [==============================] - 1s 5ms/step - loss: 0.9061 - accuracy: 0.9843\n",
            "Epoch 28/50\n",
            "200/200 [==============================] - 1s 5ms/step - loss: 0.9067 - accuracy: 0.9829\n",
            "Epoch 29/50\n",
            "200/200 [==============================] - 1s 4ms/step - loss: 0.9064 - accuracy: 0.9835\n",
            "Epoch 30/50\n",
            "200/200 [==============================] - 1s 4ms/step - loss: 0.9061 - accuracy: 0.9843\n",
            "Epoch 31/50\n",
            "200/200 [==============================] - 1s 5ms/step - loss: 0.9057 - accuracy: 0.9856\n",
            "Epoch 32/50\n",
            "200/200 [==============================] - 1s 5ms/step - loss: 0.9062 - accuracy: 0.9840\n",
            "Epoch 33/50\n",
            "200/200 [==============================] - 1s 5ms/step - loss: 0.9060 - accuracy: 0.9843\n",
            "Epoch 34/50\n",
            "200/200 [==============================] - 1s 5ms/step - loss: 0.9059 - accuracy: 0.9848\n",
            "Epoch 35/50\n",
            "200/200 [==============================] - 1s 5ms/step - loss: 0.9059 - accuracy: 0.9849\n",
            "Epoch 36/50\n",
            "200/200 [==============================] - 1s 4ms/step - loss: 0.9054 - accuracy: 0.9861\n",
            "Epoch 37/50\n",
            "200/200 [==============================] - 1s 5ms/step - loss: 0.9058 - accuracy: 0.9849\n",
            "Epoch 38/50\n",
            "200/200 [==============================] - 1s 5ms/step - loss: 0.9058 - accuracy: 0.9850\n",
            "Epoch 39/50\n",
            "200/200 [==============================] - 1s 5ms/step - loss: 0.9063 - accuracy: 0.9839\n",
            "Epoch 40/50\n",
            "200/200 [==============================] - 1s 4ms/step - loss: 0.9055 - accuracy: 0.9861\n",
            "Epoch 41/50\n",
            "200/200 [==============================] - 1s 4ms/step - loss: 0.9053 - accuracy: 0.9865\n",
            "Epoch 42/50\n",
            "200/200 [==============================] - 1s 5ms/step - loss: 0.9056 - accuracy: 0.9857\n",
            "Epoch 43/50\n",
            "200/200 [==============================] - 1s 5ms/step - loss: 0.9054 - accuracy: 0.9863\n",
            "Epoch 44/50\n",
            "200/200 [==============================] - 1s 4ms/step - loss: 0.9058 - accuracy: 0.9852\n",
            "Epoch 45/50\n",
            "200/200 [==============================] - 1s 5ms/step - loss: 0.9051 - accuracy: 0.9869\n",
            "Epoch 46/50\n",
            "200/200 [==============================] - 1s 5ms/step - loss: 0.9051 - accuracy: 0.9869\n",
            "Epoch 47/50\n",
            "200/200 [==============================] - 1s 5ms/step - loss: 0.9050 - accuracy: 0.9871\n",
            "Epoch 48/50\n",
            "200/200 [==============================] - 1s 6ms/step - loss: 0.9048 - accuracy: 0.9877\n",
            "Epoch 49/50\n",
            "200/200 [==============================] - 1s 6ms/step - loss: 0.9053 - accuracy: 0.9864\n",
            "Epoch 50/50\n",
            "200/200 [==============================] - 1s 5ms/step - loss: 0.9053 - accuracy: 0.9864\n"
          ]
        },
        {
          "output_type": "execute_result",
          "data": {
            "text/plain": [
              "<keras.callbacks.History at 0x7fea100d35d0>"
            ]
          },
          "metadata": {},
          "execution_count": 24
        }
      ],
      "source": [
        "model.fit(x_train, y_train, batch_size=300, epochs=50)"
      ]
    },
    {
      "cell_type": "markdown",
      "metadata": {
        "id": "LjYPFwXcyj4r"
      },
      "source": [
        "### 6. step 3: 預測 (testing)"
      ]
    },
    {
      "cell_type": "markdown",
      "metadata": {
        "id": "IWRRU-Z4z_nv"
      },
      "source": [
        "我們用互動模式展示我們的訓練成果。"
      ]
    },
    {
      "cell_type": "markdown",
      "source": [
        "<font color=#FF0000>從 ipywidgets 匯入 interact 模組</font> （原本是 interact_manual）"
      ],
      "metadata": {
        "id": "2QcRdx0GcuE2"
      }
    },
    {
      "cell_type": "code",
      "execution_count": null,
      "metadata": {
        "id": "2y6xLYcF0JHk"
      },
      "outputs": [],
      "source": [
        "from ipywidgets import interact\n",
        "\n",
        "y_predict = np.argmax(model.predict(x_test), axis=-1)\n",
        "\n",
        "def test(測試編號):\n",
        "    plt.imshow(x_test[測試編號].reshape(28,28), cmap='Greys')\n",
        "    print('神經網路判斷為:', y_predict[測試編號])"
      ]
    },
    {
      "cell_type": "markdown",
      "source": [
        "<font color=#FF0000>互動介面少了一個確認紐，若直接拖曳數值，資料就會同步進行變更</font>"
      ],
      "metadata": {
        "id": "D_TsgHEjc_2u"
      }
    },
    {
      "cell_type": "code",
      "execution_count": null,
      "metadata": {
        "colab": {
          "referenced_widgets": [
            "895d5a9326264fedbf9834b9b5b8fd92",
            "ff8e83f526894c31915a6b5996a60163",
            "c68fdf16781e4e409c3be3728786278a",
            "6cd507f3e14e4ce9b59f4dbb0e402c63",
            "9bf3a36ca9e94e7dad5fc485106dd7a7",
            "6341dd3061994b1eb95d0ea56ba0206a",
            "e803f36c15774540a9b00e3d51df6c89"
          ],
          "base_uri": "https://localhost:8080/",
          "height": 315
        },
        "id": "0Dp_UGsd0a7Z",
        "outputId": "3d62f24e-fa68-41e2-df63-372e975cdcfe"
      },
      "outputs": [
        {
          "output_type": "display_data",
          "data": {
            "text/plain": [
              "interactive(children=(IntSlider(value=4999, description='測試編號', max=9999), Output()), _dom_classes=('widget-in…"
            ],
            "application/vnd.jupyter.widget-view+json": {
              "version_major": 2,
              "version_minor": 0,
              "model_id": "895d5a9326264fedbf9834b9b5b8fd92"
            }
          },
          "metadata": {}
        }
      ],
      "source": [
        "interact(test, 測試編號=(0, 9999));"
      ]
    },
    {
      "cell_type": "markdown",
      "metadata": {
        "id": "tH0QNU3L0dCg"
      },
      "source": [
        "到底測試資料總的狀況如何呢? 我們可以給我們神經網路「總評量」。"
      ]
    },
    {
      "cell_type": "code",
      "execution_count": null,
      "metadata": {
        "colab": {
          "base_uri": "https://localhost:8080/"
        },
        "id": "DIb4a8Wu0lSp",
        "outputId": "9bcfe47e-b3ee-4b7b-9458-3a2f07420b66"
      },
      "outputs": [
        {
          "output_type": "stream",
          "name": "stdout",
          "text": [
            "313/313 [==============================] - 1s 4ms/step - loss: 0.9139 - accuracy: 0.9639\n"
          ]
        }
      ],
      "source": [
        "score = model.evaluate(x_test, y_test)"
      ]
    },
    {
      "cell_type": "code",
      "execution_count": null,
      "metadata": {
        "colab": {
          "base_uri": "https://localhost:8080/"
        },
        "id": "oQqCCVkK0muS",
        "outputId": "e40a1c12-f3f7-4b96-8681-bf3466be74f3"
      },
      "outputs": [
        {
          "output_type": "stream",
          "name": "stdout",
          "text": [
            "loss: 0.9138870239257812\n",
            "正確率 0.9639000296592712\n"
          ]
        }
      ],
      "source": [
        "print('loss:', score[0])\n",
        "print('正確率', score[1])"
      ]
    },
    {
      "cell_type": "markdown",
      "source": [
        "### 7. 儲存我們的 model\n",
        "\n",
        "如果對訓練成果滿意, 我們當然不想每次都再訓練一次! 我們可以把神經網路的架構和訓練好的參數都存起來, 以供日後使用!\n",
        "\n",
        "在 Colab 上, 我們要先連到自己的 Google Drive。"
      ],
      "metadata": {
        "id": "rFseCS5OXjKC"
      }
    },
    {
      "cell_type": "code",
      "source": [
        "from google.colab import drive\n",
        "\n",
        "drive.mount('/content/drive')"
      ],
      "metadata": {
        "id": "r9GQSZDqXlVX"
      },
      "execution_count": null,
      "outputs": []
    },
    {
      "cell_type": "markdown",
      "source": [
        "再來是 cd 到你的資料夾中, 我們通常是放到自己 Colab Notebooks 中, 自然你可以指定其他的資料夾。"
      ],
      "metadata": {
        "id": "E5VqGP4yXpe-"
      }
    },
    {
      "cell_type": "code",
      "source": [
        "%cd '/content/drive/My Drive/Colab Notebooks'"
      ],
      "metadata": {
        "id": "PziyXS0AXluu"
      },
      "execution_count": null,
      "outputs": []
    },
    {
      "cell_type": "code",
      "source": [
        "model.save('my_dnn_model')"
      ],
      "metadata": {
        "id": "JYQWA5I-XqCt"
      },
      "execution_count": null,
      "outputs": []
    }
  ],
  "metadata": {
    "accelerator": "GPU",
    "colab": {
      "collapsed_sections": [
        "-i-q511ASxNi",
        "hw4WAjbxSsBK",
        "JyJv4vGZyj4k",
        "6oFZw4Tqyj4m",
        "JtMuHcBnyj4o",
        "fegPHmLAyj4p",
        "4IeweJmpyj4r",
        "LjYPFwXcyj4r",
        "rFseCS5OXjKC"
      ],
      "provenance": [],
      "include_colab_link": true
    },
    "kernelspec": {
      "display_name": "Python 3",
      "name": "python3"
    },
    "language_info": {
      "name": "python"
    },
    "widgets": {
      "application/vnd.jupyter.widget-state+json": {
        "895d5a9326264fedbf9834b9b5b8fd92": {
          "model_module": "@jupyter-widgets/controls",
          "model_name": "VBoxModel",
          "model_module_version": "1.5.0",
          "state": {
            "_dom_classes": [
              "widget-interact"
            ],
            "_model_module": "@jupyter-widgets/controls",
            "_model_module_version": "1.5.0",
            "_model_name": "VBoxModel",
            "_view_count": null,
            "_view_module": "@jupyter-widgets/controls",
            "_view_module_version": "1.5.0",
            "_view_name": "VBoxView",
            "box_style": "",
            "children": [
              "IPY_MODEL_ff8e83f526894c31915a6b5996a60163",
              "IPY_MODEL_c68fdf16781e4e409c3be3728786278a"
            ],
            "layout": "IPY_MODEL_6cd507f3e14e4ce9b59f4dbb0e402c63"
          }
        },
        "ff8e83f526894c31915a6b5996a60163": {
          "model_module": "@jupyter-widgets/controls",
          "model_name": "IntSliderModel",
          "model_module_version": "1.5.0",
          "state": {
            "_dom_classes": [],
            "_model_module": "@jupyter-widgets/controls",
            "_model_module_version": "1.5.0",
            "_model_name": "IntSliderModel",
            "_view_count": null,
            "_view_module": "@jupyter-widgets/controls",
            "_view_module_version": "1.5.0",
            "_view_name": "IntSliderView",
            "continuous_update": true,
            "description": "測試編號",
            "description_tooltip": null,
            "disabled": false,
            "layout": "IPY_MODEL_9bf3a36ca9e94e7dad5fc485106dd7a7",
            "max": 9999,
            "min": 0,
            "orientation": "horizontal",
            "readout": true,
            "readout_format": "d",
            "step": 1,
            "style": "IPY_MODEL_6341dd3061994b1eb95d0ea56ba0206a",
            "value": 4999
          }
        },
        "c68fdf16781e4e409c3be3728786278a": {
          "model_module": "@jupyter-widgets/output",
          "model_name": "OutputModel",
          "model_module_version": "1.0.0",
          "state": {
            "_dom_classes": [],
            "_model_module": "@jupyter-widgets/output",
            "_model_module_version": "1.0.0",
            "_model_name": "OutputModel",
            "_view_count": null,
            "_view_module": "@jupyter-widgets/output",
            "_view_module_version": "1.0.0",
            "_view_name": "OutputView",
            "layout": "IPY_MODEL_e803f36c15774540a9b00e3d51df6c89",
            "msg_id": "",
            "outputs": [
              {
                "output_type": "stream",
                "name": "stdout",
                "text": [
                  "神經網路判斷為: 0\n"
                ]
              },
              {
                "output_type": "display_data",
                "data": {
                  "text/plain": "<Figure size 432x288 with 1 Axes>",
                  "image/png": "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\n"
                },
                "metadata": {
                  "needs_background": "light"
                }
              }
            ]
          }
        },
        "6cd507f3e14e4ce9b59f4dbb0e402c63": {
          "model_module": "@jupyter-widgets/base",
          "model_name": "LayoutModel",
          "model_module_version": "1.2.0",
          "state": {
            "_model_module": "@jupyter-widgets/base",
            "_model_module_version": "1.2.0",
            "_model_name": "LayoutModel",
            "_view_count": null,
            "_view_module": "@jupyter-widgets/base",
            "_view_module_version": "1.2.0",
            "_view_name": "LayoutView",
            "align_content": null,
            "align_items": null,
            "align_self": null,
            "border": null,
            "bottom": null,
            "display": null,
            "flex": null,
            "flex_flow": null,
            "grid_area": null,
            "grid_auto_columns": null,
            "grid_auto_flow": null,
            "grid_auto_rows": null,
            "grid_column": null,
            "grid_gap": null,
            "grid_row": null,
            "grid_template_areas": null,
            "grid_template_columns": null,
            "grid_template_rows": null,
            "height": null,
            "justify_content": null,
            "justify_items": null,
            "left": null,
            "margin": null,
            "max_height": null,
            "max_width": null,
            "min_height": null,
            "min_width": null,
            "object_fit": null,
            "object_position": null,
            "order": null,
            "overflow": null,
            "overflow_x": null,
            "overflow_y": null,
            "padding": null,
            "right": null,
            "top": null,
            "visibility": null,
            "width": null
          }
        },
        "9bf3a36ca9e94e7dad5fc485106dd7a7": {
          "model_module": "@jupyter-widgets/base",
          "model_name": "LayoutModel",
          "model_module_version": "1.2.0",
          "state": {
            "_model_module": "@jupyter-widgets/base",
            "_model_module_version": "1.2.0",
            "_model_name": "LayoutModel",
            "_view_count": null,
            "_view_module": "@jupyter-widgets/base",
            "_view_module_version": "1.2.0",
            "_view_name": "LayoutView",
            "align_content": null,
            "align_items": null,
            "align_self": null,
            "border": null,
            "bottom": null,
            "display": null,
            "flex": null,
            "flex_flow": null,
            "grid_area": null,
            "grid_auto_columns": null,
            "grid_auto_flow": null,
            "grid_auto_rows": null,
            "grid_column": null,
            "grid_gap": null,
            "grid_row": null,
            "grid_template_areas": null,
            "grid_template_columns": null,
            "grid_template_rows": null,
            "height": null,
            "justify_content": null,
            "justify_items": null,
            "left": null,
            "margin": null,
            "max_height": null,
            "max_width": null,
            "min_height": null,
            "min_width": null,
            "object_fit": null,
            "object_position": null,
            "order": null,
            "overflow": null,
            "overflow_x": null,
            "overflow_y": null,
            "padding": null,
            "right": null,
            "top": null,
            "visibility": null,
            "width": null
          }
        },
        "6341dd3061994b1eb95d0ea56ba0206a": {
          "model_module": "@jupyter-widgets/controls",
          "model_name": "SliderStyleModel",
          "model_module_version": "1.5.0",
          "state": {
            "_model_module": "@jupyter-widgets/controls",
            "_model_module_version": "1.5.0",
            "_model_name": "SliderStyleModel",
            "_view_count": null,
            "_view_module": "@jupyter-widgets/base",
            "_view_module_version": "1.2.0",
            "_view_name": "StyleView",
            "description_width": "",
            "handle_color": null
          }
        },
        "e803f36c15774540a9b00e3d51df6c89": {
          "model_module": "@jupyter-widgets/base",
          "model_name": "LayoutModel",
          "model_module_version": "1.2.0",
          "state": {
            "_model_module": "@jupyter-widgets/base",
            "_model_module_version": "1.2.0",
            "_model_name": "LayoutModel",
            "_view_count": null,
            "_view_module": "@jupyter-widgets/base",
            "_view_module_version": "1.2.0",
            "_view_name": "LayoutView",
            "align_content": null,
            "align_items": null,
            "align_self": null,
            "border": null,
            "bottom": null,
            "display": null,
            "flex": null,
            "flex_flow": null,
            "grid_area": null,
            "grid_auto_columns": null,
            "grid_auto_flow": null,
            "grid_auto_rows": null,
            "grid_column": null,
            "grid_gap": null,
            "grid_row": null,
            "grid_template_areas": null,
            "grid_template_columns": null,
            "grid_template_rows": null,
            "height": null,
            "justify_content": null,
            "justify_items": null,
            "left": null,
            "margin": null,
            "max_height": null,
            "max_width": null,
            "min_height": null,
            "min_width": null,
            "object_fit": null,
            "object_position": null,
            "order": null,
            "overflow": null,
            "overflow_x": null,
            "overflow_y": null,
            "padding": null,
            "right": null,
            "top": null,
            "visibility": null,
            "width": null
          }
        }
      }
    }
  },
  "nbformat": 4,
  "nbformat_minor": 0
}