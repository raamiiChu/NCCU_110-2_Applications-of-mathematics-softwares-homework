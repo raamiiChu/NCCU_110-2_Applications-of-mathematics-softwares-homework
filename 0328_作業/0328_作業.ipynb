{
  "nbformat": 4,
  "nbformat_minor": 0,
  "metadata": {
    "kernelspec": {
      "display_name": "Python 3",
      "language": "python",
      "name": "python3"
    },
    "language_info": {
      "codemirror_mode": {
        "name": "ipython",
        "version": 3
      },
      "file_extension": ".py",
      "mimetype": "text/x-python",
      "name": "python",
      "nbconvert_exporter": "python",
      "pygments_lexer": "ipython3",
      "version": "3.7.3"
    },
    "colab": {
      "provenance": [],
      "collapsed_sections": [
        "DbXuDZc9Rmux",
        "Eed5dktERwtN",
        "n3tcYvJwR4Bf",
        "TxscGV7ooTha",
        "ZB1Rlp897L8l",
        "4mMBL8sBmW1O",
        "dTqfalXt7L8m",
        "VzB2J0-T7L8o",
        "QhKz5DIF7L8s",
        "KGqiIkBi7L8t",
        "QXbSEaz9H2Yd",
        "Af_AkRt77L8t",
        "20qP4UUkQIy-",
        "GsjOb13v7L8v"
      ],
      "include_colab_link": true
    },
    "accelerator": "GPU",
    "widgets": {
      "application/vnd.jupyter.widget-state+json": {
        "060bdeb5bf4c47d7b15b4b0d358b045c": {
          "model_module": "@jupyter-widgets/controls",
          "model_name": "VBoxModel",
          "model_module_version": "1.5.0",
          "state": {
            "_dom_classes": [
              "widget-interact"
            ],
            "_model_module": "@jupyter-widgets/controls",
            "_model_module_version": "1.5.0",
            "_model_name": "VBoxModel",
            "_view_count": null,
            "_view_module": "@jupyter-widgets/controls",
            "_view_module_version": "1.5.0",
            "_view_name": "VBoxView",
            "box_style": "",
            "children": [
              "IPY_MODEL_8134a2b878944f3c95ab2ec46b04e117",
              "IPY_MODEL_d91678736f7c4670a3776d855161bb3d",
              "IPY_MODEL_ec59269e4e2545c9b4bd61507fdf35e5"
            ],
            "layout": "IPY_MODEL_19a2e98b30524a06aeb22992f3fb7ef3"
          }
        },
        "8134a2b878944f3c95ab2ec46b04e117": {
          "model_module": "@jupyter-widgets/controls",
          "model_name": "IntSliderModel",
          "model_module_version": "1.5.0",
          "state": {
            "_dom_classes": [],
            "_model_module": "@jupyter-widgets/controls",
            "_model_module_version": "1.5.0",
            "_model_name": "IntSliderModel",
            "_view_count": null,
            "_view_module": "@jupyter-widgets/controls",
            "_view_module_version": "1.5.0",
            "_view_name": "IntSliderView",
            "continuous_update": true,
            "description": "n",
            "description_tooltip": null,
            "disabled": false,
            "layout": "IPY_MODEL_f4215782b0874a39888bb5244a35a024",
            "max": 9999,
            "min": 0,
            "orientation": "horizontal",
            "readout": true,
            "readout_format": "d",
            "step": 1,
            "style": "IPY_MODEL_30b246cb3d064b3c8620e63235c202e3",
            "value": 1333
          }
        },
        "d91678736f7c4670a3776d855161bb3d": {
          "model_module": "@jupyter-widgets/controls",
          "model_name": "ButtonModel",
          "model_module_version": "1.5.0",
          "state": {
            "_dom_classes": [],
            "_model_module": "@jupyter-widgets/controls",
            "_model_module_version": "1.5.0",
            "_model_name": "ButtonModel",
            "_view_count": null,
            "_view_module": "@jupyter-widgets/controls",
            "_view_module_version": "1.5.0",
            "_view_name": "ButtonView",
            "button_style": "",
            "description": "Run Interact",
            "disabled": false,
            "icon": "",
            "layout": "IPY_MODEL_c4b5bfebe65c4710b822f6bad07383b4",
            "style": "IPY_MODEL_4b1896e6256048129cd748c436583f8f",
            "tooltip": ""
          }
        },
        "ec59269e4e2545c9b4bd61507fdf35e5": {
          "model_module": "@jupyter-widgets/output",
          "model_name": "OutputModel",
          "model_module_version": "1.0.0",
          "state": {
            "_dom_classes": [],
            "_model_module": "@jupyter-widgets/output",
            "_model_module_version": "1.0.0",
            "_model_name": "OutputModel",
            "_view_count": null,
            "_view_module": "@jupyter-widgets/output",
            "_view_module_version": "1.0.0",
            "_view_name": "OutputView",
            "layout": "IPY_MODEL_e5b2cd9f9e244f0faaf17e1911ccda6f",
            "msg_id": "",
            "outputs": [
              {
                "output_type": "display_data",
                "data": {
                  "text/plain": "<Figure size 360x360 with 1 Axes>",
                  "image/png": "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\n"
                },
                "metadata": {
                  "needs_background": "light"
                }
              }
            ]
          }
        },
        "19a2e98b30524a06aeb22992f3fb7ef3": {
          "model_module": "@jupyter-widgets/base",
          "model_name": "LayoutModel",
          "model_module_version": "1.2.0",
          "state": {
            "_model_module": "@jupyter-widgets/base",
            "_model_module_version": "1.2.0",
            "_model_name": "LayoutModel",
            "_view_count": null,
            "_view_module": "@jupyter-widgets/base",
            "_view_module_version": "1.2.0",
            "_view_name": "LayoutView",
            "align_content": null,
            "align_items": null,
            "align_self": null,
            "border": null,
            "bottom": null,
            "display": null,
            "flex": null,
            "flex_flow": null,
            "grid_area": null,
            "grid_auto_columns": null,
            "grid_auto_flow": null,
            "grid_auto_rows": null,
            "grid_column": null,
            "grid_gap": null,
            "grid_row": null,
            "grid_template_areas": null,
            "grid_template_columns": null,
            "grid_template_rows": null,
            "height": null,
            "justify_content": null,
            "justify_items": null,
            "left": null,
            "margin": null,
            "max_height": null,
            "max_width": null,
            "min_height": null,
            "min_width": null,
            "object_fit": null,
            "object_position": null,
            "order": null,
            "overflow": null,
            "overflow_x": null,
            "overflow_y": null,
            "padding": null,
            "right": null,
            "top": null,
            "visibility": null,
            "width": null
          }
        },
        "f4215782b0874a39888bb5244a35a024": {
          "model_module": "@jupyter-widgets/base",
          "model_name": "LayoutModel",
          "model_module_version": "1.2.0",
          "state": {
            "_model_module": "@jupyter-widgets/base",
            "_model_module_version": "1.2.0",
            "_model_name": "LayoutModel",
            "_view_count": null,
            "_view_module": "@jupyter-widgets/base",
            "_view_module_version": "1.2.0",
            "_view_name": "LayoutView",
            "align_content": null,
            "align_items": null,
            "align_self": null,
            "border": null,
            "bottom": null,
            "display": null,
            "flex": null,
            "flex_flow": null,
            "grid_area": null,
            "grid_auto_columns": null,
            "grid_auto_flow": null,
            "grid_auto_rows": null,
            "grid_column": null,
            "grid_gap": null,
            "grid_row": null,
            "grid_template_areas": null,
            "grid_template_columns": null,
            "grid_template_rows": null,
            "height": null,
            "justify_content": null,
            "justify_items": null,
            "left": null,
            "margin": null,
            "max_height": null,
            "max_width": null,
            "min_height": null,
            "min_width": null,
            "object_fit": null,
            "object_position": null,
            "order": null,
            "overflow": null,
            "overflow_x": null,
            "overflow_y": null,
            "padding": null,
            "right": null,
            "top": null,
            "visibility": null,
            "width": null
          }
        },
        "30b246cb3d064b3c8620e63235c202e3": {
          "model_module": "@jupyter-widgets/controls",
          "model_name": "SliderStyleModel",
          "model_module_version": "1.5.0",
          "state": {
            "_model_module": "@jupyter-widgets/controls",
            "_model_module_version": "1.5.0",
            "_model_name": "SliderStyleModel",
            "_view_count": null,
            "_view_module": "@jupyter-widgets/base",
            "_view_module_version": "1.2.0",
            "_view_name": "StyleView",
            "description_width": "",
            "handle_color": null
          }
        },
        "c4b5bfebe65c4710b822f6bad07383b4": {
          "model_module": "@jupyter-widgets/base",
          "model_name": "LayoutModel",
          "model_module_version": "1.2.0",
          "state": {
            "_model_module": "@jupyter-widgets/base",
            "_model_module_version": "1.2.0",
            "_model_name": "LayoutModel",
            "_view_count": null,
            "_view_module": "@jupyter-widgets/base",
            "_view_module_version": "1.2.0",
            "_view_name": "LayoutView",
            "align_content": null,
            "align_items": null,
            "align_self": null,
            "border": null,
            "bottom": null,
            "display": null,
            "flex": null,
            "flex_flow": null,
            "grid_area": null,
            "grid_auto_columns": null,
            "grid_auto_flow": null,
            "grid_auto_rows": null,
            "grid_column": null,
            "grid_gap": null,
            "grid_row": null,
            "grid_template_areas": null,
            "grid_template_columns": null,
            "grid_template_rows": null,
            "height": null,
            "justify_content": null,
            "justify_items": null,
            "left": null,
            "margin": null,
            "max_height": null,
            "max_width": null,
            "min_height": null,
            "min_width": null,
            "object_fit": null,
            "object_position": null,
            "order": null,
            "overflow": null,
            "overflow_x": null,
            "overflow_y": null,
            "padding": null,
            "right": null,
            "top": null,
            "visibility": null,
            "width": null
          }
        },
        "4b1896e6256048129cd748c436583f8f": {
          "model_module": "@jupyter-widgets/controls",
          "model_name": "ButtonStyleModel",
          "model_module_version": "1.5.0",
          "state": {
            "_model_module": "@jupyter-widgets/controls",
            "_model_module_version": "1.5.0",
            "_model_name": "ButtonStyleModel",
            "_view_count": null,
            "_view_module": "@jupyter-widgets/base",
            "_view_module_version": "1.2.0",
            "_view_name": "StyleView",
            "button_color": null,
            "font_weight": ""
          }
        },
        "e5b2cd9f9e244f0faaf17e1911ccda6f": {
          "model_module": "@jupyter-widgets/base",
          "model_name": "LayoutModel",
          "model_module_version": "1.2.0",
          "state": {
            "_model_module": "@jupyter-widgets/base",
            "_model_module_version": "1.2.0",
            "_model_name": "LayoutModel",
            "_view_count": null,
            "_view_module": "@jupyter-widgets/base",
            "_view_module_version": "1.2.0",
            "_view_name": "LayoutView",
            "align_content": null,
            "align_items": null,
            "align_self": null,
            "border": null,
            "bottom": null,
            "display": null,
            "flex": null,
            "flex_flow": null,
            "grid_area": null,
            "grid_auto_columns": null,
            "grid_auto_flow": null,
            "grid_auto_rows": null,
            "grid_column": null,
            "grid_gap": null,
            "grid_row": null,
            "grid_template_areas": null,
            "grid_template_columns": null,
            "grid_template_rows": null,
            "height": null,
            "justify_content": null,
            "justify_items": null,
            "left": null,
            "margin": null,
            "max_height": null,
            "max_width": null,
            "min_height": null,
            "min_width": null,
            "object_fit": null,
            "object_position": null,
            "order": null,
            "overflow": null,
            "overflow_x": null,
            "overflow_y": null,
            "padding": null,
            "right": null,
            "top": null,
            "visibility": null,
            "width": null
          }
        }
      }
    }
  },
  "cells": [
    {
      "cell_type": "markdown",
      "metadata": {
        "id": "view-in-github",
        "colab_type": "text"
      },
      "source": [
        "<a href=\"https://colab.research.google.com/github/raamiiChu/NCCU_110-2_Applications-of-mathematics-softwares-homework/blob/main/0328_%E4%BD%9C%E6%A5%AD/0328_%E4%BD%9C%E6%A5%AD.ipynb\" target=\"_parent\"><img src=\"https://colab.research.google.com/assets/colab-badge.svg\" alt=\"Open In Colab\"/></a>"
      ]
    },
    {
      "cell_type": "markdown",
      "source": [
        "# <font color=#FF0000>更改處皆以紅色字體標示在對應程式碼上方</font>"
      ],
      "metadata": {
        "id": "CYC6TzoyAaw3"
      }
    },
    {
      "cell_type": "markdown",
      "source": [
        "### 更改概要"
      ],
      "metadata": {
        "id": "DbXuDZc9Rmux"
      }
    },
    {
      "cell_type": "markdown",
      "source": [
        "1.   匯入 Adam 優化器\n",
        "\n",
        "2.   修正 matplotlib 的繁體中文顯示異常\n",
        "3.   filters 數量分別修改為 64, 128, 256\n",
        "4.   loss function 修改為 \"squared_hinge\"\n",
        "5.   優化器修改為 Adam\n",
        "6.   learning rate 修改為 0.005\n",
        "7.   batch size 修改為 600\n",
        "8.   epochs 修改為 20\n",
        "9.   預測結果資料型態轉換\n",
        "10.  interact_manual 的呈現方式"
      ],
      "metadata": {
        "id": "WH3exTUDRprn"
      }
    },
    {
      "cell_type": "markdown",
      "source": [
        "### 資料正確率"
      ],
      "metadata": {
        "id": "Eed5dktERwtN"
      }
    },
    {
      "cell_type": "markdown",
      "source": [
        "執行時間：2022/4/3\n",
        "![擷取.PNG](data:image/png;base64,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)"
      ],
      "metadata": {
        "id": "J8c48z1xReyV"
      }
    },
    {
      "cell_type": "markdown",
      "source": [
        "---"
      ],
      "metadata": {
        "id": "3yby7amuRa7t"
      }
    },
    {
      "cell_type": "markdown",
      "source": [
        "### 0. 匯入相關模組"
      ],
      "metadata": {
        "id": "n3tcYvJwR4Bf"
      }
    },
    {
      "cell_type": "code",
      "metadata": {
        "id": "aGo1CZOD7L8i"
      },
      "source": [
        "%matplotlib inline\n",
        "\n",
        "import numpy as np\n",
        "import pandas as pd\n",
        "import matplotlib.pyplot as plt"
      ],
      "execution_count": null,
      "outputs": []
    },
    {
      "cell_type": "markdown",
      "source": [
        "<font color=#FF0000>匯入 Adam 優化器</font> （原本是SDG）"
      ],
      "metadata": {
        "id": "Ep0B_I5Pj7cV"
      }
    },
    {
      "cell_type": "code",
      "metadata": {
        "id": "qydn4g7F7L8l"
      },
      "source": [
        "from tensorflow.keras.utils import to_categorical  # one hot encoding\n",
        "from tensorflow.keras.models import Sequential  # 函數學習機\n",
        "from tensorflow.keras.layers import Conv2D, MaxPooling2D  # 捲機層、MaxPooling\n",
        "from tensorflow.keras.layers import Dense, Flatten  # 隱藏層、拉平\n",
        "from tensorflow.keras.optimizers import Adam  # 優化器(學習方法)"
      ],
      "execution_count": null,
      "outputs": []
    },
    {
      "cell_type": "markdown",
      "source": [
        "#### <font color=#FF0000>修正 matplotlib 的繁體中文顯示異常</font>"
      ],
      "metadata": {
        "id": "TxscGV7ooTha"
      }
    },
    {
      "cell_type": "markdown",
      "source": [
        "異常原因：默認字型不支援中文 \\\n",
        "解決方法：下載並取代默認字型 \\\n",
        "\n",
        "程式碼參考來源：[蔡炎龍老師所提供的解決方法](https://nbviewer.org/github/yenlung/Deep-Learning-Basics/blob/master/colab99_%E5%9C%A8_matplotlib_%E4%B8%AD%E4%BD%BF%E7%94%A8%E4%B8%AD%E6%96%87.ipynb)"
      ],
      "metadata": {
        "id": "f7BSvcpGq8Uw"
      }
    },
    {
      "cell_type": "markdown",
      "source": [
        "修正前後的差異比較： \\\n",
        "![image.png](data:image/png;base64,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)![image.png](data:image/png;base64,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)"
      ],
      "metadata": {
        "id": "Suiw1cxtA12K"
      }
    },
    {
      "cell_type": "code",
      "source": [
        "# 下載台北思源黑體並命名taipei_sans_tc_beta.ttf，移至指定路徑\n",
        "!wget -O TaipeiSansTCBeta-Regular.ttf https://drive.google.com/uc?id=1eGAsTN1HBpJAkeVM57_C7ccp7hbgSz3_&export=download\n",
        "\n",
        "import matplotlib as mpl\n",
        "import matplotlib.pyplot as plt \n",
        "from matplotlib.font_manager import fontManager\n",
        "\n",
        "fontManager.addfont('TaipeiSansTCBeta-Regular.ttf') # 在 fontManager 中新增新的字型\n",
        "mpl.rc('font', family='Taipei Sans TC Beta') # 修改 rcParams 的 \"font\" 屬性，將原本的字型變成 \"台北黑體\""
      ],
      "metadata": {
        "colab": {
          "base_uri": "https://localhost:8080/"
        },
        "id": "lOhr7IRYmHxJ",
        "outputId": "3642bd81-1a3b-4819-c5f8-b53998094aca"
      },
      "execution_count": null,
      "outputs": [
        {
          "output_type": "stream",
          "name": "stdout",
          "text": [
            "--2022-04-03 07:02:29--  https://drive.google.com/uc?id=1eGAsTN1HBpJAkeVM57_C7ccp7hbgSz3_\n",
            "Resolving drive.google.com (drive.google.com)... 74.125.132.102, 74.125.132.101, 74.125.132.138, ...\n",
            "Connecting to drive.google.com (drive.google.com)|74.125.132.102|:443... connected.\n",
            "HTTP request sent, awaiting response... 303 See Other\n",
            "Location: https://doc-0k-9o-docs.googleusercontent.com/docs/securesc/ha0ro937gcuc7l7deffksulhg5h7mbp1/t72lc7fl056jaqbd9iauj2bbbq7hvdf0/1648969275000/02847987870453524430/*/1eGAsTN1HBpJAkeVM57_C7ccp7hbgSz3_ [following]\n",
            "Warning: wildcards not supported in HTTP.\n",
            "--2022-04-03 07:02:29--  https://doc-0k-9o-docs.googleusercontent.com/docs/securesc/ha0ro937gcuc7l7deffksulhg5h7mbp1/t72lc7fl056jaqbd9iauj2bbbq7hvdf0/1648969275000/02847987870453524430/*/1eGAsTN1HBpJAkeVM57_C7ccp7hbgSz3_\n",
            "Resolving doc-0k-9o-docs.googleusercontent.com (doc-0k-9o-docs.googleusercontent.com)... 74.125.124.132, 2607:f8b0:4001:c14::84\n",
            "Connecting to doc-0k-9o-docs.googleusercontent.com (doc-0k-9o-docs.googleusercontent.com)|74.125.124.132|:443... connected.\n",
            "HTTP request sent, awaiting response... 200 OK\n",
            "Length: 20659344 (20M) [application/x-font-ttf]\n",
            "Saving to: ‘TaipeiSansTCBeta-Regular.ttf’\n",
            "\n",
            "TaipeiSansTCBeta-Re 100%[===================>]  19.70M  --.-KB/s    in 0.1s    \n",
            "\n",
            "2022-04-03 07:02:30 (161 MB/s) - ‘TaipeiSansTCBeta-Regular.ttf’ saved [20659344/20659344]\n",
            "\n"
          ]
        }
      ]
    },
    {
      "cell_type": "markdown",
      "metadata": {
        "id": "ZB1Rlp897L8l"
      },
      "source": [
        "### 1. 讀入 MNSIT 數據集"
      ]
    },
    {
      "cell_type": "code",
      "source": [
        "from tensorflow.keras.datasets import fashion_mnist\n",
        "\n",
        "(x_train, y_train), (x_test, y_test) = fashion_mnist.load_data()"
      ],
      "metadata": {
        "id": "KblnPlUMXyvt"
      },
      "execution_count": null,
      "outputs": []
    },
    {
      "cell_type": "markdown",
      "source": [
        "### 1.5 檢視資料"
      ],
      "metadata": {
        "id": "4mMBL8sBmW1O"
      }
    },
    {
      "cell_type": "code",
      "source": [
        "print(x_train.shape, y_train.shape, x_test.shape, y_test.shape, sep=\"\\n\")"
      ],
      "metadata": {
        "colab": {
          "base_uri": "https://localhost:8080/"
        },
        "id": "2cGqjTDknCSP",
        "outputId": "f44f80a9-4c72-4ae1-c479-8d67a33134b0"
      },
      "execution_count": null,
      "outputs": [
        {
          "output_type": "stream",
          "name": "stdout",
          "text": [
            "(60000, 28, 28)\n",
            "(60000,)\n",
            "(10000, 28, 28)\n",
            "(10000,)\n"
          ]
        }
      ]
    },
    {
      "cell_type": "code",
      "source": [
        "import random\n",
        "labels = [\"T-shirt/top(T恤)\", \"Trouser(褲子)\", \"Pullover(套衫)\",\n",
        "          \"Dress(裙子)\", \"Coat(外套)\", \"Sandal(涼鞋)\",\n",
        "          \"Shirt(汗衫)\", \"Sneaker(運動鞋)\", \"Bag(包)\", \"Ankle boot(踝靴)\"]"
      ],
      "metadata": {
        "id": "5_7tgfwzpALW"
      },
      "execution_count": null,
      "outputs": []
    },
    {
      "cell_type": "code",
      "source": [
        "n = random.randint(0,60000)\n",
        "\n",
        "plt.figure(figsize=(6,6))\n",
        "\n",
        "plt.title(f\"第 {n} 筆資料\", fontsize=20)\n",
        "plt.xlabel(labels[y_train[n]], fontsize=20)\n",
        "\n",
        "plt.imshow(x_train[n], cmap=\"Greys\");"
      ],
      "metadata": {
        "colab": {
          "base_uri": "https://localhost:8080/",
          "height": 420
        },
        "id": "pPpX4LVwlPV4",
        "outputId": "f5ac245f-7373-44fe-ee3c-4a46ecbd800c"
      },
      "execution_count": null,
      "outputs": [
        {
          "output_type": "display_data",
          "data": {
            "text/plain": [
              "<Figure size 432x432 with 1 Axes>"
            ],
            "image/png": "[encoded data removed]"
          },
          "metadata": {
            "needs_background": "light"
          }
        }
      ]
    },
    {
      "cell_type": "markdown",
      "metadata": {
        "id": "dTqfalXt7L8m"
      },
      "source": [
        "### 2. 資料整理"
      ]
    },
    {
      "cell_type": "markdown",
      "metadata": {
        "id": "kBGLl4D67L8n"
      },
      "source": [
        "#### Channel\n",
        "\n",
        "CNN 要注意一張圖有多少個 channel, 開始我們因為只有灰階, 所以只有一個 channel。因此我們要轉一下我們的資料格式:\n",
        "\n",
        "    (28,28) --> (28, 28, 1)"
      ]
    },
    {
      "cell_type": "code",
      "metadata": {
        "id": "7aXZ78m07L8n"
      },
      "source": [
        "x_train = x_train.reshape(60000, 28, 28, 1) / 255\n",
        "x_test = x_test.reshape(10000, 28, 28, 1) / 255\n",
        "\n",
        "y_train = to_categorical(y_train, 10)\n",
        "y_test = to_categorical(y_test, 10)"
      ],
      "execution_count": null,
      "outputs": []
    },
    {
      "cell_type": "markdown",
      "metadata": {
        "id": "VzB2J0-T7L8o"
      },
      "source": [
        "### 3. step 1: 打造函數學習機 (CNN)"
      ]
    },
    {
      "cell_type": "markdown",
      "source": [
        "*   <font color=#FF0000>filters 數量分別修改為 64, 128, 256</font>"
      ],
      "metadata": {
        "id": "PrIIQcXeG17h"
      }
    },
    {
      "cell_type": "code",
      "metadata": {
        "id": "Qc2iY67A7L8o"
      },
      "source": [
        "model = Sequential()"
      ],
      "execution_count": null,
      "outputs": []
    },
    {
      "cell_type": "code",
      "metadata": {
        "id": "sRN_Y-gL7L8p"
      },
      "source": [
        "model.add(Conv2D(64, (3,3), padding='same', # num of filters, size\n",
        "                input_shape=(28,28,1),\n",
        "                activation='relu'))"
      ],
      "execution_count": null,
      "outputs": []
    },
    {
      "cell_type": "code",
      "metadata": {
        "id": "0WLsmgaS7L8p"
      },
      "source": [
        "model.add(MaxPooling2D(pool_size=(2,2)))"
      ],
      "execution_count": null,
      "outputs": []
    },
    {
      "cell_type": "code",
      "metadata": {
        "id": "eLCxB5lH7L8p"
      },
      "source": [
        "model.add(Conv2D(128, (3,3), padding='same',\n",
        "                activation='relu'))"
      ],
      "execution_count": null,
      "outputs": []
    },
    {
      "cell_type": "code",
      "metadata": {
        "id": "1P3Fmcdz7L8p"
      },
      "source": [
        "model.add(MaxPooling2D(pool_size=(2,2)))"
      ],
      "execution_count": null,
      "outputs": []
    },
    {
      "cell_type": "code",
      "metadata": {
        "id": "EE2X4ebF7L8q"
      },
      "source": [
        "model.add(Conv2D(256, (3,3), padding='same',\n",
        "                activation='relu'))"
      ],
      "execution_count": null,
      "outputs": []
    },
    {
      "cell_type": "code",
      "metadata": {
        "id": "kf6aVaUg7L8q"
      },
      "source": [
        "model.add(MaxPooling2D(pool_size=(2,2)))"
      ],
      "execution_count": null,
      "outputs": []
    },
    {
      "cell_type": "code",
      "metadata": {
        "id": "d9CzoAFg7L8q"
      },
      "source": [
        "model.add(Flatten())"
      ],
      "execution_count": null,
      "outputs": []
    },
    {
      "cell_type": "code",
      "metadata": {
        "id": "Gfj7YGlN7L8q"
      },
      "source": [
        "model.add(Dense(256, activation='relu'))"
      ],
      "execution_count": null,
      "outputs": []
    },
    {
      "cell_type": "code",
      "metadata": {
        "id": "iGV2eYe47L8q"
      },
      "source": [
        "model.add(Dense(10, activation='softmax'))"
      ],
      "execution_count": null,
      "outputs": []
    },
    {
      "cell_type": "markdown",
      "metadata": {
        "id": "1Y8TVlN17L8r"
      },
      "source": [
        "#### 看一下我們的神經網路"
      ]
    },
    {
      "cell_type": "code",
      "metadata": {
        "id": "3eXWhtYc7L8r",
        "colab": {
          "base_uri": "https://localhost:8080/"
        },
        "outputId": "821a8f28-a7ca-43ff-ff00-707168ab55b2"
      },
      "source": [
        "model.summary()"
      ],
      "execution_count": null,
      "outputs": [
        {
          "output_type": "stream",
          "name": "stdout",
          "text": [
            "Model: \"sequential\"\n",
            "_________________________________________________________________\n",
            " Layer (type)                Output Shape              Param #   \n",
            "=================================================================\n",
            " conv2d (Conv2D)             (None, 28, 28, 64)        640       \n",
            "                                                                 \n",
            " max_pooling2d (MaxPooling2D  (None, 14, 14, 64)       0         \n",
            " )                                                               \n",
            "                                                                 \n",
            " conv2d_1 (Conv2D)           (None, 14, 14, 128)       73856     \n",
            "                                                                 \n",
            " max_pooling2d_1 (MaxPooling  (None, 7, 7, 128)        0         \n",
            " 2D)                                                             \n",
            "                                                                 \n",
            " conv2d_2 (Conv2D)           (None, 7, 7, 256)         295168    \n",
            "                                                                 \n",
            " max_pooling2d_2 (MaxPooling  (None, 3, 3, 256)        0         \n",
            " 2D)                                                             \n",
            "                                                                 \n",
            " flatten (Flatten)           (None, 2304)              0         \n",
            "                                                                 \n",
            " dense (Dense)               (None, 256)               590080    \n",
            "                                                                 \n",
            " dense_1 (Dense)             (None, 10)                2570      \n",
            "                                                                 \n",
            "=================================================================\n",
            "Total params: 962,314\n",
            "Trainable params: 962,314\n",
            "Non-trainable params: 0\n",
            "_________________________________________________________________\n"
          ]
        }
      ]
    },
    {
      "cell_type": "markdown",
      "metadata": {
        "id": "YbX29tpF7L8s"
      },
      "source": [
        "#### 組裝"
      ]
    },
    {
      "cell_type": "markdown",
      "source": [
        "[loss function 相關解釋文章（簡中）](https://blog.csdn.net/lyb3b3b/article/details/76962651)\n",
        "*   <font color=#FF0000>loss function 修改為 \"squared_hinge\"</font>\n",
        "*   <font color=#FF0000>優化器修改為 Adam</font>\n",
        "*   <font color=#FF0000>learning rate 修改為 0.005</font>"
      ],
      "metadata": {
        "id": "Qot0QR5qHD7L"
      }
    },
    {
      "cell_type": "code",
      "metadata": {
        "id": "_naOUBlK7L8s"
      },
      "source": [
        "model.compile(loss='squared_hinge', optimizer=Adam(learning_rate=0.005),\n",
        "             metrics=['accuracy'])"
      ],
      "execution_count": null,
      "outputs": []
    },
    {
      "cell_type": "markdown",
      "metadata": {
        "id": "QhKz5DIF7L8s"
      },
      "source": [
        "### 4. step 2: fit"
      ]
    },
    {
      "cell_type": "markdown",
      "source": [
        "*   <font color=#FF0000>batch size 修改為 600</font>\n",
        "*   <font color=#FF0000>epochs 修改為 20</font>"
      ],
      "metadata": {
        "id": "Em5vfXdtHObJ"
      }
    },
    {
      "cell_type": "code",
      "metadata": {
        "scrolled": true,
        "id": "_48y-caB7L8s",
        "colab": {
          "base_uri": "https://localhost:8080/"
        },
        "outputId": "001f7e14-4515-4263-cc22-373cf8139a54"
      },
      "source": [
        "model.fit(x_train, y_train, batch_size=600, epochs=20)"
      ],
      "execution_count": null,
      "outputs": [
        {
          "output_type": "stream",
          "name": "stdout",
          "text": [
            "Epoch 1/20\n",
            "100/100 [==============================] - 10s 69ms/step - loss: 1.0243 - accuracy: 0.6574\n",
            "Epoch 2/20\n",
            "100/100 [==============================] - 7s 69ms/step - loss: 0.9486 - accuracy: 0.8715\n",
            "Epoch 3/20\n",
            "100/100 [==============================] - 7s 68ms/step - loss: 0.9398 - accuracy: 0.8949\n",
            "Epoch 4/20\n",
            "100/100 [==============================] - 7s 68ms/step - loss: 0.9362 - accuracy: 0.9051\n",
            "Epoch 5/20\n",
            "100/100 [==============================] - 7s 68ms/step - loss: 0.9340 - accuracy: 0.9115\n",
            "Epoch 6/20\n",
            "100/100 [==============================] - 7s 68ms/step - loss: 0.9318 - accuracy: 0.9165\n",
            "Epoch 7/20\n",
            "100/100 [==============================] - 7s 72ms/step - loss: 0.9306 - accuracy: 0.9199\n",
            "Epoch 8/20\n",
            "100/100 [==============================] - 7s 74ms/step - loss: 0.9309 - accuracy: 0.9193\n",
            "Epoch 9/20\n",
            "100/100 [==============================] - 7s 69ms/step - loss: 0.9286 - accuracy: 0.9255\n",
            "Epoch 10/20\n",
            "100/100 [==============================] - 7s 69ms/step - loss: 0.9274 - accuracy: 0.9290\n",
            "Epoch 11/20\n",
            "100/100 [==============================] - 7s 69ms/step - loss: 0.9277 - accuracy: 0.9280\n",
            "Epoch 12/20\n",
            "100/100 [==============================] - 7s 69ms/step - loss: 0.9261 - accuracy: 0.9322\n",
            "Epoch 13/20\n",
            "100/100 [==============================] - 7s 69ms/step - loss: 0.9252 - accuracy: 0.9344\n",
            "Epoch 14/20\n",
            "100/100 [==============================] - 7s 69ms/step - loss: 0.9242 - accuracy: 0.9376\n",
            "Epoch 15/20\n",
            "100/100 [==============================] - 7s 70ms/step - loss: 0.9261 - accuracy: 0.9329\n",
            "Epoch 16/20\n",
            "100/100 [==============================] - 7s 69ms/step - loss: 0.9255 - accuracy: 0.9343\n",
            "Epoch 17/20\n",
            "100/100 [==============================] - 7s 69ms/step - loss: 0.9265 - accuracy: 0.9320\n",
            "Epoch 18/20\n",
            "100/100 [==============================] - 7s 68ms/step - loss: 0.9265 - accuracy: 0.9320\n",
            "Epoch 19/20\n",
            "100/100 [==============================] - 7s 70ms/step - loss: 0.9268 - accuracy: 0.9315\n",
            "Epoch 20/20\n",
            "100/100 [==============================] - 7s 68ms/step - loss: 0.9305 - accuracy: 0.9226\n"
          ]
        },
        {
          "output_type": "execute_result",
          "data": {
            "text/plain": [
              "<keras.callbacks.History at 0x7fd47000b3d0>"
            ]
          },
          "metadata": {},
          "execution_count": 21
        }
      ]
    },
    {
      "cell_type": "markdown",
      "metadata": {
        "id": "KGqiIkBi7L8t"
      },
      "source": [
        "### 5. Step 3: 預測"
      ]
    },
    {
      "cell_type": "code",
      "metadata": {
        "id": "d8ILAWiy7L8t"
      },
      "source": [
        "y_predict = np.argmax(model.predict(x_test), axis=-1)"
      ],
      "execution_count": null,
      "outputs": []
    },
    {
      "cell_type": "markdown",
      "source": [
        "#### <font color=#FF0000>預測結果資料型態轉換</font>"
      ],
      "metadata": {
        "id": "QXbSEaz9H2Yd"
      }
    },
    {
      "cell_type": "markdown",
      "source": [
        "將數字替換成對應的資料內容\n",
        "```\n",
        "predict_result = np.array([labels[y] for y in y_predict])\n",
        "```\n",
        "---\n",
        "若看不懂 <font color=#FF0000>comprehension 語法</font>，可以將該程式碼理解成：\n",
        "```\n",
        "predict_result = []\n",
        "for y in y_predict:\n",
        "    a.append(labels[y])\n",
        "predict_result = np.array(a)\n",
        "```\n",
        "---\n",
        "相關介紹連結：\\\n",
        "[python 官方文件（英文）](https://docs.python.org/3/tutorial/datastructures.html#list-comprehensions) \\\n",
        "[w3schools（英文）](https://www.w3schools.com/python/python_lists_comprehension.asp)"
      ],
      "metadata": {
        "id": "5IvePKOvNGSS"
      }
    },
    {
      "cell_type": "code",
      "source": [
        "labels = [\"T-shirt/top(T恤)\", \"Trouser(褲子)\", \"Pullover(套衫)\",\n",
        "          \"Dress(裙子)\", \"Coat(外套)\", \"Sandal(涼鞋)\",\n",
        "          \"Shirt(汗衫)\", \"Sneaker(運動鞋)\", \"Bag(包)\", \"Ankle boot(踝靴)\"]\n",
        "\n",
        "predict_result = np.array([labels[y] for y in y_predict])"
      ],
      "metadata": {
        "id": "1EMPPn7cgGC8"
      },
      "execution_count": null,
      "outputs": []
    },
    {
      "cell_type": "code",
      "source": [
        "# 檢查用\n",
        "print(y_predict[:5], predict_result[:5], sep=\"\\n\")"
      ],
      "metadata": {
        "colab": {
          "base_uri": "https://localhost:8080/"
        },
        "id": "e06OX3nqEBcS",
        "outputId": "338be654-cf0e-4f1c-958d-e445427e1fa6"
      },
      "execution_count": null,
      "outputs": [
        {
          "output_type": "stream",
          "name": "stdout",
          "text": [
            "[9 2 1 1 6]\n",
            "['Ankle boot(踝靴)' 'Pullover(套衫)' 'Trouser(褲子)' 'Trouser(褲子)' 'Shirt(汗衫)']\n"
          ]
        }
      ]
    },
    {
      "cell_type": "markdown",
      "metadata": {
        "id": "Af_AkRt77L8t"
      },
      "source": [
        "#### 看看測試資料表現如何"
      ]
    },
    {
      "cell_type": "code",
      "metadata": {
        "id": "wh3mpqtK7L8t",
        "colab": {
          "base_uri": "https://localhost:8080/"
        },
        "outputId": "139b2631-f2ac-45ae-f794-5e8f0747309f"
      },
      "source": [
        "loss, acc = model.evaluate(x_test, y_test)\n",
        "\n",
        "print(f'測試資料的正確率為 {acc*100:.2f}%')"
      ],
      "execution_count": null,
      "outputs": [
        {
          "output_type": "stream",
          "name": "stdout",
          "text": [
            "313/313 [==============================] - 2s 7ms/step - loss: 0.9367 - accuracy: 0.9071\n",
            "測試資料的正確率為 90.71%\n"
          ]
        }
      ]
    },
    {
      "cell_type": "markdown",
      "source": [
        "#### <font color=#FF0000>interact_manual 的呈現方式</font>"
      ],
      "metadata": {
        "id": "20qP4UUkQIy-"
      }
    },
    {
      "cell_type": "code",
      "metadata": {
        "id": "-iDHmLOs7L8u"
      },
      "source": [
        "from ipywidgets import interact_manual\n",
        "\n",
        "def my_predict(n):\n",
        "    X = x_test[n].reshape(28,28)\n",
        "\n",
        "    plt.figure(figsize=(5,5))  #  設定圖表大小\n",
        "    plt.title(f\"第 {n} 筆資料\", fontsize=18)  # 設定圖表標題以及文字大小\n",
        "    plt.xlabel(f\"預測結果：{predict_result[n]}\", fontsize=18)  # 設定 x軸標籤以及文字大小\n",
        "    \n",
        "    plt.imshow(X, cmap='Greys');"
      ],
      "execution_count": null,
      "outputs": []
    },
    {
      "cell_type": "code",
      "metadata": {
        "id": "BGCogG2Q7L8u",
        "colab": {
          "base_uri": "https://localhost:8080/",
          "height": 427,
          "referenced_widgets": [
            "060bdeb5bf4c47d7b15b4b0d358b045c",
            "8134a2b878944f3c95ab2ec46b04e117",
            "d91678736f7c4670a3776d855161bb3d",
            "ec59269e4e2545c9b4bd61507fdf35e5",
            "19a2e98b30524a06aeb22992f3fb7ef3",
            "f4215782b0874a39888bb5244a35a024",
            "30b246cb3d064b3c8620e63235c202e3",
            "c4b5bfebe65c4710b822f6bad07383b4",
            "4b1896e6256048129cd748c436583f8f",
            "e5b2cd9f9e244f0faaf17e1911ccda6f"
          ]
        },
        "outputId": "42c352fb-5af8-4a6e-a2f0-e7d4ef2e025d"
      },
      "source": [
        "interact_manual(my_predict, n=(0, 9999));"
      ],
      "execution_count": null,
      "outputs": [
        {
          "output_type": "display_data",
          "data": {
            "text/plain": [
              "interactive(children=(IntSlider(value=4999, description='n', max=9999), Button(description='Run Interact', sty…"
            ],
            "application/vnd.jupyter.widget-view+json": {
              "version_major": 2,
              "version_minor": 0,
              "model_id": "060bdeb5bf4c47d7b15b4b0d358b045c"
            }
          },
          "metadata": {}
        }
      ]
    },
    {
      "cell_type": "markdown",
      "metadata": {
        "id": "GsjOb13v7L8v"
      },
      "source": [
        "### 6. 把我們的 model 存起來"
      ]
    },
    {
      "cell_type": "code",
      "metadata": {
        "id": "w7Z0DQmX84N-",
        "colab": {
          "base_uri": "https://localhost:8080/"
        },
        "outputId": "da40a9b9-35e6-4978-ff3f-295c6be7c59c"
      },
      "source": [
        "from google.colab import drive\n",
        "\n",
        "drive.mount('/content/drive')"
      ],
      "execution_count": null,
      "outputs": [
        {
          "output_type": "stream",
          "name": "stdout",
          "text": [
            "Drive already mounted at /content/drive; to attempt to forcibly remount, call drive.mount(\"/content/drive\", force_remount=True).\n"
          ]
        }
      ]
    },
    {
      "cell_type": "code",
      "metadata": {
        "id": "MriCV7fW9NWQ",
        "colab": {
          "base_uri": "https://localhost:8080/"
        },
        "outputId": "160db005-1c10-47a6-ac8b-fe13820bc9dc"
      },
      "source": [
        "%cd '/content/drive/My Drive/Colab Notebooks'"
      ],
      "execution_count": null,
      "outputs": [
        {
          "output_type": "stream",
          "name": "stdout",
          "text": [
            "/content/drive/My Drive/Colab Notebooks\n"
          ]
        }
      ]
    },
    {
      "cell_type": "code",
      "metadata": {
        "id": "bl3fuNmD7L8v",
        "colab": {
          "base_uri": "https://localhost:8080/"
        },
        "outputId": "a29236e8-d027-4fdd-a0a5-88c9304131e5"
      },
      "source": [
        "model.save('my_cnn_model')"
      ],
      "execution_count": null,
      "outputs": [
        {
          "output_type": "stream",
          "name": "stdout",
          "text": [
            "INFO:tensorflow:Assets written to: my_cnn_model/assets\n"
          ]
        }
      ]
    }
  ]
}