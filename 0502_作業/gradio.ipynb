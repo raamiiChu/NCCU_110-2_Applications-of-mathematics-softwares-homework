{
  "nbformat": 4,
  "nbformat_minor": 0,
  "metadata": {
    "colab": {
      "provenance": [],
      "collapsed_sections": [
        "9mAKzo3A6RWF",
        "OzyP4XFupczB",
        "gVuDVqaJpuul",
        "MKrA18NPO_-T",
        "PPYiWq24j9dy",
        "VkYmeOiJj7_d",
        "XTiUEbhpP01h",
        "Y7Cd1nXjm5mv",
        "0eraVmemnLTw",
        "bzstSZE5ZAEu"
      ],
      "authorship_tag": "ABX9TyNDE0exNVAU4KFHb0nO5Q1K",
      "include_colab_link": true
    },
    "kernelspec": {
      "name": "python3",
      "display_name": "Python 3"
    },
    "language_info": {
      "name": "python"
    },
    "accelerator": "GPU"
  },
  "cells": [
    {
      "cell_type": "markdown",
      "metadata": {
        "id": "view-in-github",
        "colab_type": "text"
      },
      "source": [
        "<a href=\"https://colab.research.google.com/github/raamiiChu/NCCU_110-2_Applications-of-mathematics-softwares-homework/blob/main/0502_%E4%BD%9C%E6%A5%AD/gradio.ipynb\" target=\"_parent\"><img src=\"https://colab.research.google.com/assets/colab-badge.svg\" alt=\"Open In Colab\"/></a>"
      ]
    },
    {
      "cell_type": "markdown",
      "source": [
        "# <font color=#FF3030>更改處皆以紅色字體標示在對應程式碼上方</font>"
      ],
      "metadata": {
        "id": "wraeJM6hhQ3o"
      }
    },
    {
      "cell_type": "markdown",
      "source": [
        "### 更改概要"
      ],
      "metadata": {
        "id": "b96KEa_ThLxP"
      }
    },
    {
      "cell_type": "markdown",
      "source": [
        "1. 載入 re 模組\n",
        "1. 將輸入的內容轉換成小寫\n",
        "1. 去除標點符號"
      ],
      "metadata": {
        "id": "lSFFPTdohSY1"
      }
    },
    {
      "cell_type": "markdown",
      "source": [
        "## 1. 讀入訓練好的 model"
      ],
      "metadata": {
        "id": "9mAKzo3A6RWF"
      }
    },
    {
      "cell_type": "code",
      "source": [
        "from google.colab import drive\n",
        "drive.mount('/content/drive')\n",
        "%cd '/content/drive/My Drive/Colab Notebooks/數學軟體應用/作業/0502 作業/'"
      ],
      "metadata": {
        "id": "h5xl6ncz6QHm",
        "colab": {
          "base_uri": "https://localhost:8080/"
        },
        "outputId": "b932776a-3e62-4219-a9ac-03c3e9ab6e8f"
      },
      "execution_count": null,
      "outputs": [
        {
          "output_type": "stream",
          "name": "stdout",
          "text": [
            "Mounted at /content/drive\n",
            "/content/drive/My Drive/Colab Notebooks/數學軟體應用/作業/0502 作業\n"
          ]
        }
      ]
    },
    {
      "cell_type": "code",
      "source": [
        "from tensorflow.keras.models import load_model\n",
        "from tensorflow.keras.datasets import imdb\n",
        "from tensorflow.keras.datasets.imdb import get_word_index"
      ],
      "metadata": {
        "id": "HjtkTnNf6zI_"
      },
      "execution_count": null,
      "outputs": []
    },
    {
      "cell_type": "code",
      "source": [
        "word_index = get_word_index()\n",
        "\n",
        "model = load_model(\"imdb_model\")"
      ],
      "metadata": {
        "id": "XGEXd9Gx6Umu",
        "colab": {
          "base_uri": "https://localhost:8080/"
        },
        "outputId": "7f29b046-7e10-40a1-b8c1-ce5f99905df9"
      },
      "execution_count": null,
      "outputs": [
        {
          "output_type": "stream",
          "name": "stdout",
          "text": [
            "Downloading data from https://storage.googleapis.com/tensorflow/tf-keras-datasets/imdb_word_index.json\n",
            "1646592/1641221 [==============================] - 0s 0us/step\n",
            "1654784/1641221 [==============================] - 0s 0us/step\n"
          ]
        }
      ]
    },
    {
      "cell_type": "markdown",
      "source": [
        "## 2. 用 `gradio` 打造 web app!"
      ],
      "metadata": {
        "id": "qIrisqSt6ZZy"
      }
    },
    {
      "cell_type": "markdown",
      "source": [
        "### 下載 gradio "
      ],
      "metadata": {
        "id": "OzyP4XFupczB"
      }
    },
    {
      "cell_type": "code",
      "execution_count": null,
      "metadata": {
        "id": "8qtRqtcUpXxU",
        "colab": {
          "base_uri": "https://localhost:8080/"
        },
        "outputId": "50de339d-e39b-4b61-f597-5c917305633e"
      },
      "outputs": [
        {
          "output_type": "stream",
          "name": "stdout",
          "text": [
            "Collecting gradio\n",
            "  Downloading gradio-2.9.4-py3-none-any.whl (2.9 MB)\n",
            "\u001b[?25l\r\u001b[K     |▏                               | 10 kB 32.3 MB/s eta 0:00:01\r\u001b[K     |▎                               | 20 kB 40.3 MB/s eta 0:00:01\r\u001b[K     |▍                               | 30 kB 45.1 MB/s eta 0:00:01\r\u001b[K     |▌                               | 40 kB 31.6 MB/s eta 0:00:01\r\u001b[K     |▋                               | 51 kB 35.3 MB/s eta 0:00:01\r\u001b[K     |▊                               | 61 kB 39.7 MB/s eta 0:00:01\r\u001b[K     |▉                               | 71 kB 28.0 MB/s eta 0:00:01\r\u001b[K     |█                               | 81 kB 29.7 MB/s eta 0:00:01\r\u001b[K     |█                               | 92 kB 32.0 MB/s eta 0:00:01\r\u001b[K     |█▏                              | 102 kB 32.8 MB/s eta 0:00:01\r\u001b[K     |█▎                              | 112 kB 32.8 MB/s eta 0:00:01\r\u001b[K     |█▍                              | 122 kB 32.8 MB/s eta 0:00:01\r\u001b[K     |█▌                              | 133 kB 32.8 MB/s eta 0:00:01\r\u001b[K     |█▋                              | 143 kB 32.8 MB/s eta 0:00:01\r\u001b[K     |█▊                              | 153 kB 32.8 MB/s eta 0:00:01\r\u001b[K     |█▉                              | 163 kB 32.8 MB/s eta 0:00:01\r\u001b[K     |██                              | 174 kB 32.8 MB/s eta 0:00:01\r\u001b[K     |██                              | 184 kB 32.8 MB/s eta 0:00:01\r\u001b[K     |██▏                             | 194 kB 32.8 MB/s eta 0:00:01\r\u001b[K     |██▎                             | 204 kB 32.8 MB/s eta 0:00:01\r\u001b[K     |██▍                             | 215 kB 32.8 MB/s eta 0:00:01\r\u001b[K     |██▌                             | 225 kB 32.8 MB/s eta 0:00:01\r\u001b[K     |██▋                             | 235 kB 32.8 MB/s eta 0:00:01\r\u001b[K     |██▊                             | 245 kB 32.8 MB/s eta 0:00:01\r\u001b[K     |██▉                             | 256 kB 32.8 MB/s eta 0:00:01\r\u001b[K     |███                             | 266 kB 32.8 MB/s eta 0:00:01\r\u001b[K     |███                             | 276 kB 32.8 MB/s eta 0:00:01\r\u001b[K     |███▏                            | 286 kB 32.8 MB/s eta 0:00:01\r\u001b[K     |███▎                            | 296 kB 32.8 MB/s eta 0:00:01\r\u001b[K     |███▍                            | 307 kB 32.8 MB/s eta 0:00:01\r\u001b[K     |███▌                            | 317 kB 32.8 MB/s eta 0:00:01\r\u001b[K     |███▋                            | 327 kB 32.8 MB/s eta 0:00:01\r\u001b[K     |███▊                            | 337 kB 32.8 MB/s eta 0:00:01\r\u001b[K     |███▉                            | 348 kB 32.8 MB/s eta 0:00:01\r\u001b[K     |████                            | 358 kB 32.8 MB/s eta 0:00:01\r\u001b[K     |████                            | 368 kB 32.8 MB/s eta 0:00:01\r\u001b[K     |████▏                           | 378 kB 32.8 MB/s eta 0:00:01\r\u001b[K     |████▎                           | 389 kB 32.8 MB/s eta 0:00:01\r\u001b[K     |████▍                           | 399 kB 32.8 MB/s eta 0:00:01\r\u001b[K     |████▌                           | 409 kB 32.8 MB/s eta 0:00:01\r\u001b[K     |████▋                           | 419 kB 32.8 MB/s eta 0:00:01\r\u001b[K     |████▊                           | 430 kB 32.8 MB/s eta 0:00:01\r\u001b[K     |████▉                           | 440 kB 32.8 MB/s eta 0:00:01\r\u001b[K     |█████                           | 450 kB 32.8 MB/s eta 0:00:01\r\u001b[K     |█████                           | 460 kB 32.8 MB/s eta 0:00:01\r\u001b[K     |█████▏                          | 471 kB 32.8 MB/s eta 0:00:01\r\u001b[K     |█████▎                          | 481 kB 32.8 MB/s eta 0:00:01\r\u001b[K     |█████▍                          | 491 kB 32.8 MB/s eta 0:00:01\r\u001b[K     |█████▌                          | 501 kB 32.8 MB/s eta 0:00:01\r\u001b[K     |█████▋                          | 512 kB 32.8 MB/s eta 0:00:01\r\u001b[K     |█████▊                          | 522 kB 32.8 MB/s eta 0:00:01\r\u001b[K     |█████▉                          | 532 kB 32.8 MB/s eta 0:00:01\r\u001b[K     |██████                          | 542 kB 32.8 MB/s eta 0:00:01\r\u001b[K     |██████                          | 552 kB 32.8 MB/s eta 0:00:01\r\u001b[K     |██████▏                         | 563 kB 32.8 MB/s eta 0:00:01\r\u001b[K     |██████▎                         | 573 kB 32.8 MB/s eta 0:00:01\r\u001b[K     |██████▍                         | 583 kB 32.8 MB/s eta 0:00:01\r\u001b[K     |██████▌                         | 593 kB 32.8 MB/s eta 0:00:01\r\u001b[K     |██████▊                         | 604 kB 32.8 MB/s eta 0:00:01\r\u001b[K     |██████▉                         | 614 kB 32.8 MB/s eta 0:00:01\r\u001b[K     |███████                         | 624 kB 32.8 MB/s eta 0:00:01\r\u001b[K     |███████                         | 634 kB 32.8 MB/s eta 0:00:01\r\u001b[K     |███████▏                        | 645 kB 32.8 MB/s eta 0:00:01\r\u001b[K     |███████▎                        | 655 kB 32.8 MB/s eta 0:00:01\r\u001b[K     |███████▍                        | 665 kB 32.8 MB/s eta 0:00:01\r\u001b[K     |███████▌                        | 675 kB 32.8 MB/s eta 0:00:01\r\u001b[K     |███████▋                        | 686 kB 32.8 MB/s eta 0:00:01\r\u001b[K     |███████▊                        | 696 kB 32.8 MB/s eta 0:00:01\r\u001b[K     |███████▉                        | 706 kB 32.8 MB/s eta 0:00:01\r\u001b[K     |████████                        | 716 kB 32.8 MB/s eta 0:00:01\r\u001b[K     |████████                        | 727 kB 32.8 MB/s eta 0:00:01\r\u001b[K     |████████▏                       | 737 kB 32.8 MB/s eta 0:00:01\r\u001b[K     |████████▎                       | 747 kB 32.8 MB/s eta 0:00:01\r\u001b[K     |████████▍                       | 757 kB 32.8 MB/s eta 0:00:01\r\u001b[K     |████████▌                       | 768 kB 32.8 MB/s eta 0:00:01\r\u001b[K     |████████▋                       | 778 kB 32.8 MB/s eta 0:00:01\r\u001b[K     |████████▊                       | 788 kB 32.8 MB/s eta 0:00:01\r\u001b[K     |████████▉                       | 798 kB 32.8 MB/s eta 0:00:01\r\u001b[K     |█████████                       | 808 kB 32.8 MB/s eta 0:00:01\r\u001b[K     |█████████                       | 819 kB 32.8 MB/s eta 0:00:01\r\u001b[K     |█████████▏                      | 829 kB 32.8 MB/s eta 0:00:01\r\u001b[K     |█████████▎                      | 839 kB 32.8 MB/s eta 0:00:01\r\u001b[K     |█████████▍                      | 849 kB 32.8 MB/s eta 0:00:01\r\u001b[K     |█████████▌                      | 860 kB 32.8 MB/s eta 0:00:01\r\u001b[K     |█████████▋                      | 870 kB 32.8 MB/s eta 0:00:01\r\u001b[K     |█████████▊                      | 880 kB 32.8 MB/s eta 0:00:01\r\u001b[K     |█████████▉                      | 890 kB 32.8 MB/s eta 0:00:01\r\u001b[K     |██████████                      | 901 kB 32.8 MB/s eta 0:00:01\r\u001b[K     |██████████                      | 911 kB 32.8 MB/s eta 0:00:01\r\u001b[K     |██████████▏                     | 921 kB 32.8 MB/s eta 0:00:01\r\u001b[K     |██████████▎                     | 931 kB 32.8 MB/s eta 0:00:01\r\u001b[K     |██████████▍                     | 942 kB 32.8 MB/s eta 0:00:01\r\u001b[K     |██████████▌                     | 952 kB 32.8 MB/s eta 0:00:01\r\u001b[K     |██████████▋                     | 962 kB 32.8 MB/s eta 0:00:01\r\u001b[K     |██████████▊                     | 972 kB 32.8 MB/s eta 0:00:01\r\u001b[K     |██████████▉                     | 983 kB 32.8 MB/s eta 0:00:01\r\u001b[K     |███████████                     | 993 kB 32.8 MB/s eta 0:00:01\r\u001b[K     |███████████                     | 1.0 MB 32.8 MB/s eta 0:00:01\r\u001b[K     |███████████▏                    | 1.0 MB 32.8 MB/s eta 0:00:01\r\u001b[K     |███████████▎                    | 1.0 MB 32.8 MB/s eta 0:00:01\r\u001b[K     |███████████▍                    | 1.0 MB 32.8 MB/s eta 0:00:01\r\u001b[K     |███████████▌                    | 1.0 MB 32.8 MB/s eta 0:00:01\r\u001b[K     |███████████▋                    | 1.1 MB 32.8 MB/s eta 0:00:01\r\u001b[K     |███████████▊                    | 1.1 MB 32.8 MB/s eta 0:00:01\r\u001b[K     |███████████▉                    | 1.1 MB 32.8 MB/s eta 0:00:01\r\u001b[K     |████████████                    | 1.1 MB 32.8 MB/s eta 0:00:01\r\u001b[K     |████████████                    | 1.1 MB 32.8 MB/s eta 0:00:01\r\u001b[K     |████████████▏                   | 1.1 MB 32.8 MB/s eta 0:00:01\r\u001b[K     |████████████▎                   | 1.1 MB 32.8 MB/s eta 0:00:01\r\u001b[K     |████████████▍                   | 1.1 MB 32.8 MB/s eta 0:00:01\r\u001b[K     |████████████▌                   | 1.1 MB 32.8 MB/s eta 0:00:01\r\u001b[K     |████████████▋                   | 1.1 MB 32.8 MB/s eta 0:00:01\r\u001b[K     |████████████▊                   | 1.2 MB 32.8 MB/s eta 0:00:01\r\u001b[K     |████████████▉                   | 1.2 MB 32.8 MB/s eta 0:00:01\r\u001b[K     |█████████████                   | 1.2 MB 32.8 MB/s eta 0:00:01\r\u001b[K     |█████████████                   | 1.2 MB 32.8 MB/s eta 0:00:01\r\u001b[K     |█████████████▎                  | 1.2 MB 32.8 MB/s eta 0:00:01\r\u001b[K     |█████████████▍                  | 1.2 MB 32.8 MB/s eta 0:00:01\r\u001b[K     |█████████████▌                  | 1.2 MB 32.8 MB/s eta 0:00:01\r\u001b[K     |█████████████▋                  | 1.2 MB 32.8 MB/s eta 0:00:01\r\u001b[K     |█████████████▊                  | 1.2 MB 32.8 MB/s eta 0:00:01\r\u001b[K     |█████████████▉                  | 1.2 MB 32.8 MB/s eta 0:00:01\r\u001b[K     |██████████████                  | 1.3 MB 32.8 MB/s eta 0:00:01\r\u001b[K     |██████████████                  | 1.3 MB 32.8 MB/s eta 0:00:01\r\u001b[K     |██████████████▏                 | 1.3 MB 32.8 MB/s eta 0:00:01\r\u001b[K     |██████████████▎                 | 1.3 MB 32.8 MB/s eta 0:00:01\r\u001b[K     |██████████████▍                 | 1.3 MB 32.8 MB/s eta 0:00:01\r\u001b[K     |██████████████▌                 | 1.3 MB 32.8 MB/s eta 0:00:01\r\u001b[K     |██████████████▋                 | 1.3 MB 32.8 MB/s eta 0:00:01\r\u001b[K     |██████████████▊                 | 1.3 MB 32.8 MB/s eta 0:00:01\r\u001b[K     |██████████████▉                 | 1.3 MB 32.8 MB/s eta 0:00:01\r\u001b[K     |███████████████                 | 1.4 MB 32.8 MB/s eta 0:00:01\r\u001b[K     |███████████████                 | 1.4 MB 32.8 MB/s eta 0:00:01\r\u001b[K     |███████████████▏                | 1.4 MB 32.8 MB/s eta 0:00:01\r\u001b[K     |███████████████▎                | 1.4 MB 32.8 MB/s eta 0:00:01\r\u001b[K     |███████████████▍                | 1.4 MB 32.8 MB/s eta 0:00:01\r\u001b[K     |███████████████▌                | 1.4 MB 32.8 MB/s eta 0:00:01\r\u001b[K     |███████████████▋                | 1.4 MB 32.8 MB/s eta 0:00:01\r\u001b[K     |███████████████▊                | 1.4 MB 32.8 MB/s eta 0:00:01\r\u001b[K     |███████████████▉                | 1.4 MB 32.8 MB/s eta 0:00:01\r\u001b[K     |████████████████                | 1.4 MB 32.8 MB/s eta 0:00:01\r\u001b[K     |████████████████                | 1.5 MB 32.8 MB/s eta 0:00:01\r\u001b[K     |████████████████▏               | 1.5 MB 32.8 MB/s eta 0:00:01\r\u001b[K     |████████████████▎               | 1.5 MB 32.8 MB/s eta 0:00:01\r\u001b[K     |████████████████▍               | 1.5 MB 32.8 MB/s eta 0:00:01\r\u001b[K     |████████████████▌               | 1.5 MB 32.8 MB/s eta 0:00:01\r\u001b[K     |████████████████▋               | 1.5 MB 32.8 MB/s eta 0:00:01\r\u001b[K     |████████████████▊               | 1.5 MB 32.8 MB/s eta 0:00:01\r\u001b[K     |████████████████▉               | 1.5 MB 32.8 MB/s eta 0:00:01\r\u001b[K     |█████████████████               | 1.5 MB 32.8 MB/s eta 0:00:01\r\u001b[K     |█████████████████               | 1.5 MB 32.8 MB/s eta 0:00:01\r\u001b[K     |█████████████████▏              | 1.6 MB 32.8 MB/s eta 0:00:01\r\u001b[K     |█████████████████▎              | 1.6 MB 32.8 MB/s eta 0:00:01\r\u001b[K     |█████████████████▍              | 1.6 MB 32.8 MB/s eta 0:00:01\r\u001b[K     |█████████████████▌              | 1.6 MB 32.8 MB/s eta 0:00:01\r\u001b[K     |█████████████████▋              | 1.6 MB 32.8 MB/s eta 0:00:01\r\u001b[K     |█████████████████▊              | 1.6 MB 32.8 MB/s eta 0:00:01\r\u001b[K     |█████████████████▉              | 1.6 MB 32.8 MB/s eta 0:00:01\r\u001b[K     |██████████████████              | 1.6 MB 32.8 MB/s eta 0:00:01\r\u001b[K     |██████████████████              | 1.6 MB 32.8 MB/s eta 0:00:01\r\u001b[K     |██████████████████▏             | 1.6 MB 32.8 MB/s eta 0:00:01\r\u001b[K     |██████████████████▎             | 1.7 MB 32.8 MB/s eta 0:00:01\r\u001b[K     |██████████████████▍             | 1.7 MB 32.8 MB/s eta 0:00:01\r\u001b[K     |██████████████████▌             | 1.7 MB 32.8 MB/s eta 0:00:01\r\u001b[K     |██████████████████▋             | 1.7 MB 32.8 MB/s eta 0:00:01\r\u001b[K     |██████████████████▊             | 1.7 MB 32.8 MB/s eta 0:00:01\r\u001b[K     |██████████████████▉             | 1.7 MB 32.8 MB/s eta 0:00:01\r\u001b[K     |███████████████████             | 1.7 MB 32.8 MB/s eta 0:00:01\r\u001b[K     |███████████████████             | 1.7 MB 32.8 MB/s eta 0:00:01\r\u001b[K     |███████████████████▏            | 1.7 MB 32.8 MB/s eta 0:00:01\r\u001b[K     |███████████████████▎            | 1.8 MB 32.8 MB/s eta 0:00:01\r\u001b[K     |███████████████████▍            | 1.8 MB 32.8 MB/s eta 0:00:01\r\u001b[K     |███████████████████▌            | 1.8 MB 32.8 MB/s eta 0:00:01\r\u001b[K     |███████████████████▋            | 1.8 MB 32.8 MB/s eta 0:00:01\r\u001b[K     |███████████████████▉            | 1.8 MB 32.8 MB/s eta 0:00:01\r\u001b[K     |████████████████████            | 1.8 MB 32.8 MB/s eta 0:00:01\r\u001b[K     |████████████████████            | 1.8 MB 32.8 MB/s eta 0:00:01\r\u001b[K     |████████████████████▏           | 1.8 MB 32.8 MB/s eta 0:00:01\r\u001b[K     |████████████████████▎           | 1.8 MB 32.8 MB/s eta 0:00:01\r\u001b[K     |████████████████████▍           | 1.8 MB 32.8 MB/s eta 0:00:01\r\u001b[K     |████████████████████▌           | 1.9 MB 32.8 MB/s eta 0:00:01\r\u001b[K     |████████████████████▋           | 1.9 MB 32.8 MB/s eta 0:00:01\r\u001b[K     |████████████████████▊           | 1.9 MB 32.8 MB/s eta 0:00:01\r\u001b[K     |████████████████████▉           | 1.9 MB 32.8 MB/s eta 0:00:01\r\u001b[K     |█████████████████████           | 1.9 MB 32.8 MB/s eta 0:00:01\r\u001b[K     |█████████████████████           | 1.9 MB 32.8 MB/s eta 0:00:01\r\u001b[K     |█████████████████████▏          | 1.9 MB 32.8 MB/s eta 0:00:01\r\u001b[K     |█████████████████████▎          | 1.9 MB 32.8 MB/s eta 0:00:01\r\u001b[K     |█████████████████████▍          | 1.9 MB 32.8 MB/s eta 0:00:01\r\u001b[K     |█████████████████████▌          | 1.9 MB 32.8 MB/s eta 0:00:01\r\u001b[K     |█████████████████████▋          | 2.0 MB 32.8 MB/s eta 0:00:01\r\u001b[K     |█████████████████████▊          | 2.0 MB 32.8 MB/s eta 0:00:01\r\u001b[K     |█████████████████████▉          | 2.0 MB 32.8 MB/s eta 0:00:01\r\u001b[K     |██████████████████████          | 2.0 MB 32.8 MB/s eta 0:00:01\r\u001b[K     |██████████████████████          | 2.0 MB 32.8 MB/s eta 0:00:01\r\u001b[K     |██████████████████████▏         | 2.0 MB 32.8 MB/s eta 0:00:01\r\u001b[K     |██████████████████████▎         | 2.0 MB 32.8 MB/s eta 0:00:01\r\u001b[K     |██████████████████████▍         | 2.0 MB 32.8 MB/s eta 0:00:01\r\u001b[K     |██████████████████████▌         | 2.0 MB 32.8 MB/s eta 0:00:01\r\u001b[K     |██████████████████████▋         | 2.0 MB 32.8 MB/s eta 0:00:01\r\u001b[K     |██████████████████████▊         | 2.1 MB 32.8 MB/s eta 0:00:01\r\u001b[K     |██████████████████████▉         | 2.1 MB 32.8 MB/s eta 0:00:01\r\u001b[K     |███████████████████████         | 2.1 MB 32.8 MB/s eta 0:00:01\r\u001b[K     |███████████████████████         | 2.1 MB 32.8 MB/s eta 0:00:01\r\u001b[K     |███████████████████████▏        | 2.1 MB 32.8 MB/s eta 0:00:01\r\u001b[K     |███████████████████████▎        | 2.1 MB 32.8 MB/s eta 0:00:01\r\u001b[K     |███████████████████████▍        | 2.1 MB 32.8 MB/s eta 0:00:01\r\u001b[K     |███████████████████████▌        | 2.1 MB 32.8 MB/s eta 0:00:01\r\u001b[K     |███████████████████████▋        | 2.1 MB 32.8 MB/s eta 0:00:01\r\u001b[K     |███████████████████████▊        | 2.2 MB 32.8 MB/s eta 0:00:01\r\u001b[K     |███████████████████████▉        | 2.2 MB 32.8 MB/s eta 0:00:01\r\u001b[K     |████████████████████████        | 2.2 MB 32.8 MB/s eta 0:00:01\r\u001b[K     |████████████████████████        | 2.2 MB 32.8 MB/s eta 0:00:01\r\u001b[K     |████████████████████████▏       | 2.2 MB 32.8 MB/s eta 0:00:01\r\u001b[K     |████████████████████████▎       | 2.2 MB 32.8 MB/s eta 0:00:01\r\u001b[K     |████████████████████████▍       | 2.2 MB 32.8 MB/s eta 0:00:01\r\u001b[K     |████████████████████████▌       | 2.2 MB 32.8 MB/s eta 0:00:01\r\u001b[K     |████████████████████████▋       | 2.2 MB 32.8 MB/s eta 0:00:01\r\u001b[K     |████████████████████████▊       | 2.2 MB 32.8 MB/s eta 0:00:01\r\u001b[K     |████████████████████████▉       | 2.3 MB 32.8 MB/s eta 0:00:01\r\u001b[K     |█████████████████████████       | 2.3 MB 32.8 MB/s eta 0:00:01\r\u001b[K     |█████████████████████████       | 2.3 MB 32.8 MB/s eta 0:00:01\r\u001b[K     |█████████████████████████▏      | 2.3 MB 32.8 MB/s eta 0:00:01\r\u001b[K     |█████████████████████████▎      | 2.3 MB 32.8 MB/s eta 0:00:01\r\u001b[K     |█████████████████████████▍      | 2.3 MB 32.8 MB/s eta 0:00:01\r\u001b[K     |█████████████████████████▌      | 2.3 MB 32.8 MB/s eta 0:00:01\r\u001b[K     |█████████████████████████▋      | 2.3 MB 32.8 MB/s eta 0:00:01\r\u001b[K     |█████████████████████████▊      | 2.3 MB 32.8 MB/s eta 0:00:01\r\u001b[K     |█████████████████████████▉      | 2.3 MB 32.8 MB/s eta 0:00:01\r\u001b[K     |██████████████████████████      | 2.4 MB 32.8 MB/s eta 0:00:01\r\u001b[K     |██████████████████████████      | 2.4 MB 32.8 MB/s eta 0:00:01\r\u001b[K     |██████████████████████████▏     | 2.4 MB 32.8 MB/s eta 0:00:01\r\u001b[K     |██████████████████████████▍     | 2.4 MB 32.8 MB/s eta 0:00:01\r\u001b[K     |██████████████████████████▌     | 2.4 MB 32.8 MB/s eta 0:00:01\r\u001b[K     |██████████████████████████▋     | 2.4 MB 32.8 MB/s eta 0:00:01\r\u001b[K     |██████████████████████████▊     | 2.4 MB 32.8 MB/s eta 0:00:01\r\u001b[K     |██████████████████████████▉     | 2.4 MB 32.8 MB/s eta 0:00:01\r\u001b[K     |███████████████████████████     | 2.4 MB 32.8 MB/s eta 0:00:01\r\u001b[K     |███████████████████████████     | 2.4 MB 32.8 MB/s eta 0:00:01\r\u001b[K     |███████████████████████████▏    | 2.5 MB 32.8 MB/s eta 0:00:01\r\u001b[K     |███████████████████████████▎    | 2.5 MB 32.8 MB/s eta 0:00:01\r\u001b[K     |███████████████████████████▍    | 2.5 MB 32.8 MB/s eta 0:00:01\r\u001b[K     |███████████████████████████▌    | 2.5 MB 32.8 MB/s eta 0:00:01\r\u001b[K     |███████████████████████████▋    | 2.5 MB 32.8 MB/s eta 0:00:01\r\u001b[K     |███████████████████████████▊    | 2.5 MB 32.8 MB/s eta 0:00:01\r\u001b[K     |███████████████████████████▉    | 2.5 MB 32.8 MB/s eta 0:00:01\r\u001b[K     |████████████████████████████    | 2.5 MB 32.8 MB/s eta 0:00:01\r\u001b[K     |████████████████████████████    | 2.5 MB 32.8 MB/s eta 0:00:01\r\u001b[K     |████████████████████████████▏   | 2.5 MB 32.8 MB/s eta 0:00:01\r\u001b[K     |████████████████████████████▎   | 2.6 MB 32.8 MB/s eta 0:00:01\r\u001b[K     |████████████████████████████▍   | 2.6 MB 32.8 MB/s eta 0:00:01\r\u001b[K     |████████████████████████████▌   | 2.6 MB 32.8 MB/s eta 0:00:01\r\u001b[K     |████████████████████████████▋   | 2.6 MB 32.8 MB/s eta 0:00:01\r\u001b[K     |████████████████████████████▊   | 2.6 MB 32.8 MB/s eta 0:00:01\r\u001b[K     |████████████████████████████▉   | 2.6 MB 32.8 MB/s eta 0:00:01\r\u001b[K     |█████████████████████████████   | 2.6 MB 32.8 MB/s eta 0:00:01\r\u001b[K     |█████████████████████████████   | 2.6 MB 32.8 MB/s eta 0:00:01\r\u001b[K     |█████████████████████████████▏  | 2.6 MB 32.8 MB/s eta 0:00:01\r\u001b[K     |█████████████████████████████▎  | 2.7 MB 32.8 MB/s eta 0:00:01\r\u001b[K     |█████████████████████████████▍  | 2.7 MB 32.8 MB/s eta 0:00:01\r\u001b[K     |█████████████████████████████▌  | 2.7 MB 32.8 MB/s eta 0:00:01\r\u001b[K     |█████████████████████████████▋  | 2.7 MB 32.8 MB/s eta 0:00:01\r\u001b[K     |█████████████████████████████▊  | 2.7 MB 32.8 MB/s eta 0:00:01\r\u001b[K     |█████████████████████████████▉  | 2.7 MB 32.8 MB/s eta 0:00:01\r\u001b[K     |██████████████████████████████  | 2.7 MB 32.8 MB/s eta 0:00:01\r\u001b[K     |██████████████████████████████  | 2.7 MB 32.8 MB/s eta 0:00:01\r\u001b[K     |██████████████████████████████▏ | 2.7 MB 32.8 MB/s eta 0:00:01\r\u001b[K     |██████████████████████████████▎ | 2.7 MB 32.8 MB/s eta 0:00:01\r\u001b[K     |██████████████████████████████▍ | 2.8 MB 32.8 MB/s eta 0:00:01\r\u001b[K     |██████████████████████████████▌ | 2.8 MB 32.8 MB/s eta 0:00:01\r\u001b[K     |██████████████████████████████▋ | 2.8 MB 32.8 MB/s eta 0:00:01\r\u001b[K     |██████████████████████████████▊ | 2.8 MB 32.8 MB/s eta 0:00:01\r\u001b[K     |██████████████████████████████▉ | 2.8 MB 32.8 MB/s eta 0:00:01\r\u001b[K     |███████████████████████████████ | 2.8 MB 32.8 MB/s eta 0:00:01\r\u001b[K     |███████████████████████████████ | 2.8 MB 32.8 MB/s eta 0:00:01\r\u001b[K     |███████████████████████████████▏| 2.8 MB 32.8 MB/s eta 0:00:01\r\u001b[K     |███████████████████████████████▎| 2.8 MB 32.8 MB/s eta 0:00:01\r\u001b[K     |███████████████████████████████▍| 2.8 MB 32.8 MB/s eta 0:00:01\r\u001b[K     |███████████████████████████████▌| 2.9 MB 32.8 MB/s eta 0:00:01\r\u001b[K     |███████████████████████████████▋| 2.9 MB 32.8 MB/s eta 0:00:01\r\u001b[K     |███████████████████████████████▊| 2.9 MB 32.8 MB/s eta 0:00:01\r\u001b[K     |███████████████████████████████▉| 2.9 MB 32.8 MB/s eta 0:00:01\r\u001b[K     |████████████████████████████████| 2.9 MB 32.8 MB/s eta 0:00:01\r\u001b[K     |████████████████████████████████| 2.9 MB 32.8 MB/s \n",
            "\u001b[?25hRequirement already satisfied: requests in /usr/local/lib/python3.7/dist-packages (from gradio) (2.23.0)\n",
            "Requirement already satisfied: pandas in /usr/local/lib/python3.7/dist-packages (from gradio) (1.3.5)\n",
            "Collecting python-multipart\n",
            "  Downloading python-multipart-0.0.5.tar.gz (32 kB)\n",
            "Requirement already satisfied: matplotlib in /usr/local/lib/python3.7/dist-packages (from gradio) (3.2.2)\n",
            "Requirement already satisfied: Jinja2 in /usr/local/lib/python3.7/dist-packages (from gradio) (2.11.3)\n",
            "Collecting orjson\n",
            "  Downloading orjson-3.6.8-cp37-cp37m-manylinux_2_24_x86_64.whl (253 kB)\n",
            "\u001b[K     |████████████████████████████████| 253 kB 60.0 MB/s \n",
            "\u001b[?25hCollecting fastapi\n",
            "  Downloading fastapi-0.76.0-py3-none-any.whl (54 kB)\n",
            "\u001b[K     |████████████████████████████████| 54 kB 3.3 MB/s \n",
            "\u001b[?25hCollecting analytics-python\n",
            "  Downloading analytics_python-1.4.0-py2.py3-none-any.whl (15 kB)\n",
            "Collecting paramiko\n",
            "  Downloading paramiko-2.10.4-py2.py3-none-any.whl (212 kB)\n",
            "\u001b[K     |████████████████████████████████| 212 kB 73.7 MB/s \n",
            "\u001b[?25hCollecting ffmpy\n",
            "  Downloading ffmpy-0.3.0.tar.gz (4.8 kB)\n",
            "Requirement already satisfied: pillow in /usr/local/lib/python3.7/dist-packages (from gradio) (7.1.2)\n",
            "Requirement already satisfied: numpy in /usr/local/lib/python3.7/dist-packages (from gradio) (1.21.6)\n",
            "Collecting markdown-it-py[linkify,plugins]\n",
            "  Downloading markdown_it_py-2.1.0-py3-none-any.whl (84 kB)\n",
            "\u001b[K     |████████████████████████████████| 84 kB 4.0 MB/s \n",
            "\u001b[?25hCollecting pycryptodome\n",
            "  Downloading pycryptodome-3.14.1-cp35-abi3-manylinux2010_x86_64.whl (2.0 MB)\n",
            "\u001b[K     |████████████████████████████████| 2.0 MB 72.5 MB/s \n",
            "\u001b[?25hCollecting uvicorn\n",
            "  Downloading uvicorn-0.17.6-py3-none-any.whl (53 kB)\n",
            "\u001b[K     |████████████████████████████████| 53 kB 2.6 MB/s \n",
            "\u001b[?25hCollecting pydub\n",
            "  Downloading pydub-0.25.1-py2.py3-none-any.whl (32 kB)\n",
            "Collecting aiohttp\n",
            "  Downloading aiohttp-3.8.1-cp37-cp37m-manylinux_2_5_x86_64.manylinux1_x86_64.manylinux_2_12_x86_64.manylinux2010_x86_64.whl (1.1 MB)\n",
            "\u001b[K     |████████████████████████████████| 1.1 MB 67.8 MB/s \n",
            "\u001b[?25hCollecting yarl<2.0,>=1.0\n",
            "  Downloading yarl-1.7.2-cp37-cp37m-manylinux_2_5_x86_64.manylinux1_x86_64.manylinux_2_12_x86_64.manylinux2010_x86_64.whl (271 kB)\n",
            "\u001b[K     |████████████████████████████████| 271 kB 13.5 MB/s \n",
            "\u001b[?25hCollecting multidict<7.0,>=4.5\n",
            "  Downloading multidict-6.0.2-cp37-cp37m-manylinux_2_17_x86_64.manylinux2014_x86_64.whl (94 kB)\n",
            "\u001b[K     |████████████████████████████████| 94 kB 123 kB/s \n",
            "\u001b[?25hRequirement already satisfied: typing-extensions>=3.7.4 in /usr/local/lib/python3.7/dist-packages (from aiohttp->gradio) (4.2.0)\n",
            "Requirement already satisfied: charset-normalizer<3.0,>=2.0 in /usr/local/lib/python3.7/dist-packages (from aiohttp->gradio) (2.0.12)\n",
            "Requirement already satisfied: attrs>=17.3.0 in /usr/local/lib/python3.7/dist-packages (from aiohttp->gradio) (21.4.0)\n",
            "Collecting asynctest==0.13.0\n",
            "  Downloading asynctest-0.13.0-py3-none-any.whl (26 kB)\n",
            "Collecting aiosignal>=1.1.2\n",
            "  Downloading aiosignal-1.2.0-py3-none-any.whl (8.2 kB)\n",
            "Collecting async-timeout<5.0,>=4.0.0a3\n",
            "  Downloading async_timeout-4.0.2-py3-none-any.whl (5.8 kB)\n",
            "Collecting frozenlist>=1.1.1\n",
            "  Downloading frozenlist-1.3.0-cp37-cp37m-manylinux_2_5_x86_64.manylinux1_x86_64.manylinux_2_17_x86_64.manylinux2014_x86_64.whl (144 kB)\n",
            "\u001b[K     |████████████████████████████████| 144 kB 68.6 MB/s \n",
            "\u001b[?25hRequirement already satisfied: idna>=2.0 in /usr/local/lib/python3.7/dist-packages (from yarl<2.0,>=1.0->aiohttp->gradio) (2.10)\n",
            "Collecting monotonic>=1.5\n",
            "  Downloading monotonic-1.6-py2.py3-none-any.whl (8.2 kB)\n",
            "Requirement already satisfied: python-dateutil>2.1 in /usr/local/lib/python3.7/dist-packages (from analytics-python->gradio) (2.8.2)\n",
            "Requirement already satisfied: six>=1.5 in /usr/local/lib/python3.7/dist-packages (from analytics-python->gradio) (1.15.0)\n",
            "Collecting backoff==1.10.0\n",
            "  Downloading backoff-1.10.0-py2.py3-none-any.whl (31 kB)\n",
            "Requirement already satisfied: certifi>=2017.4.17 in /usr/local/lib/python3.7/dist-packages (from requests->gradio) (2021.10.8)\n",
            "Requirement already satisfied: chardet<4,>=3.0.2 in /usr/local/lib/python3.7/dist-packages (from requests->gradio) (3.0.4)\n",
            "Requirement already satisfied: urllib3!=1.25.0,!=1.25.1,<1.26,>=1.21.1 in /usr/local/lib/python3.7/dist-packages (from requests->gradio) (1.24.3)\n",
            "Collecting pydantic!=1.7,!=1.7.1,!=1.7.2,!=1.7.3,!=1.8,!=1.8.1,<2.0.0,>=1.6.2\n",
            "  Downloading pydantic-1.9.0-cp37-cp37m-manylinux_2_17_x86_64.manylinux2014_x86_64.whl (10.9 MB)\n",
            "\u001b[K     |████████████████████████████████| 10.9 MB 66.2 MB/s \n",
            "\u001b[?25hCollecting starlette==0.18.0\n",
            "  Downloading starlette-0.18.0-py3-none-any.whl (59 kB)\n",
            "\u001b[K     |████████████████████████████████| 59 kB 8.8 MB/s \n",
            "\u001b[?25hCollecting anyio<4,>=3.0.0\n",
            "  Downloading anyio-3.5.0-py3-none-any.whl (79 kB)\n",
            "\u001b[K     |████████████████████████████████| 79 kB 10.0 MB/s \n",
            "\u001b[?25hCollecting sniffio>=1.1\n",
            "  Downloading sniffio-1.2.0-py3-none-any.whl (10 kB)\n",
            "Requirement already satisfied: MarkupSafe>=0.23 in /usr/local/lib/python3.7/dist-packages (from Jinja2->gradio) (2.0.1)\n",
            "Collecting mdurl~=0.1\n",
            "  Downloading mdurl-0.1.1-py3-none-any.whl (10 kB)\n",
            "Collecting mdit-py-plugins\n",
            "  Downloading mdit_py_plugins-0.3.0-py3-none-any.whl (43 kB)\n",
            "\u001b[K     |████████████████████████████████| 43 kB 2.5 MB/s \n",
            "\u001b[?25hCollecting linkify-it-py~=1.0\n",
            "  Downloading linkify_it_py-1.0.3-py3-none-any.whl (19 kB)\n",
            "Collecting uc-micro-py\n",
            "  Downloading uc_micro_py-1.0.1-py3-none-any.whl (6.2 kB)\n",
            "Requirement already satisfied: kiwisolver>=1.0.1 in /usr/local/lib/python3.7/dist-packages (from matplotlib->gradio) (1.4.2)\n",
            "Requirement already satisfied: pyparsing!=2.0.4,!=2.1.2,!=2.1.6,>=2.0.1 in /usr/local/lib/python3.7/dist-packages (from matplotlib->gradio) (3.0.8)\n",
            "Requirement already satisfied: cycler>=0.10 in /usr/local/lib/python3.7/dist-packages (from matplotlib->gradio) (0.11.0)\n",
            "Requirement already satisfied: pytz>=2017.3 in /usr/local/lib/python3.7/dist-packages (from pandas->gradio) (2022.1)\n",
            "Collecting cryptography>=2.5\n",
            "  Downloading cryptography-37.0.2-cp36-abi3-manylinux_2_24_x86_64.whl (4.0 MB)\n",
            "\u001b[K     |████████████████████████████████| 4.0 MB 45.5 MB/s \n",
            "\u001b[?25hCollecting pynacl>=1.0.1\n",
            "  Downloading PyNaCl-1.5.0-cp36-abi3-manylinux_2_17_x86_64.manylinux2014_x86_64.manylinux_2_24_x86_64.whl (856 kB)\n",
            "\u001b[K     |████████████████████████████████| 856 kB 70.7 MB/s \n",
            "\u001b[?25hCollecting bcrypt>=3.1.3\n",
            "  Downloading bcrypt-3.2.2-cp36-abi3-manylinux_2_17_x86_64.manylinux2014_x86_64.manylinux_2_24_x86_64.whl (62 kB)\n",
            "\u001b[K     |████████████████████████████████| 62 kB 1.2 MB/s \n",
            "\u001b[?25hRequirement already satisfied: cffi>=1.1 in /usr/local/lib/python3.7/dist-packages (from bcrypt>=3.1.3->paramiko->gradio) (1.15.0)\n",
            "Requirement already satisfied: pycparser in /usr/local/lib/python3.7/dist-packages (from cffi>=1.1->bcrypt>=3.1.3->paramiko->gradio) (2.21)\n",
            "Collecting h11>=0.8\n",
            "  Downloading h11-0.13.0-py3-none-any.whl (58 kB)\n",
            "\u001b[K     |████████████████████████████████| 58 kB 7.5 MB/s \n",
            "\u001b[?25hRequirement already satisfied: click>=7.0 in /usr/local/lib/python3.7/dist-packages (from uvicorn->gradio) (7.1.2)\n",
            "Collecting asgiref>=3.4.0\n",
            "  Downloading asgiref-3.5.1-py3-none-any.whl (22 kB)\n",
            "Building wheels for collected packages: ffmpy, python-multipart\n",
            "  Building wheel for ffmpy (setup.py) ... \u001b[?25l\u001b[?25hdone\n",
            "  Created wheel for ffmpy: filename=ffmpy-0.3.0-py3-none-any.whl size=4712 sha256=71ac1e854c1bbf97bfdb766b0feb9ae586437bac77dbe3264a88545279d9e345\n",
            "  Stored in directory: /root/.cache/pip/wheels/13/e4/6c/e8059816e86796a597c6e6b0d4c880630f51a1fcfa0befd5e6\n",
            "  Building wheel for python-multipart (setup.py) ... \u001b[?25l\u001b[?25hdone\n",
            "  Created wheel for python-multipart: filename=python_multipart-0.0.5-py3-none-any.whl size=31678 sha256=59321c425084d4936406bd0c6cb17b52023ddc6bf0245b66b8bbfd36e2091fe0\n",
            "  Stored in directory: /root/.cache/pip/wheels/2c/41/7c/bfd1c180534ffdcc0972f78c5758f89881602175d48a8bcd2c\n",
            "Successfully built ffmpy python-multipart\n",
            "Installing collected packages: sniffio, mdurl, uc-micro-py, multidict, markdown-it-py, frozenlist, anyio, yarl, starlette, pynacl, pydantic, monotonic, mdit-py-plugins, linkify-it-py, h11, cryptography, bcrypt, backoff, asynctest, async-timeout, asgiref, aiosignal, uvicorn, python-multipart, pydub, pycryptodome, paramiko, orjson, ffmpy, fastapi, analytics-python, aiohttp, gradio\n",
            "Successfully installed aiohttp-3.8.1 aiosignal-1.2.0 analytics-python-1.4.0 anyio-3.5.0 asgiref-3.5.1 async-timeout-4.0.2 asynctest-0.13.0 backoff-1.10.0 bcrypt-3.2.2 cryptography-37.0.2 fastapi-0.76.0 ffmpy-0.3.0 frozenlist-1.3.0 gradio-2.9.4 h11-0.13.0 linkify-it-py-1.0.3 markdown-it-py-2.1.0 mdit-py-plugins-0.3.0 mdurl-0.1.1 monotonic-1.6 multidict-6.0.2 orjson-3.6.8 paramiko-2.10.4 pycryptodome-3.14.1 pydantic-1.9.0 pydub-0.25.1 pynacl-1.5.0 python-multipart-0.0.5 sniffio-1.2.0 starlette-0.18.0 uc-micro-py-1.0.1 uvicorn-0.17.6 yarl-1.7.2\n"
          ]
        }
      ],
      "source": [
        "!pip install gradio"
      ]
    },
    {
      "cell_type": "markdown",
      "source": [
        "### 載入模組"
      ],
      "metadata": {
        "id": "gVuDVqaJpuul"
      }
    },
    {
      "cell_type": "code",
      "source": [
        "import gradio as gr"
      ],
      "metadata": {
        "id": "mEN2bWuLphy9",
        "colab": {
          "base_uri": "https://localhost:8080/"
        },
        "outputId": "f51a9a6f-9f9e-4a4b-dafe-cf7f276ccd68"
      },
      "execution_count": null,
      "outputs": [
        {
          "output_type": "stream",
          "name": "stderr",
          "text": [
            "/usr/local/lib/python3.7/dist-packages/paramiko/transport.py:236: CryptographyDeprecationWarning: Blowfish has been deprecated\n",
            "  \"class\": algorithms.Blowfish,\n"
          ]
        }
      ]
    },
    {
      "cell_type": "markdown",
      "source": [
        "<font color=#FF3030>載入 re 模組</font>"
      ],
      "metadata": {
        "id": "Znc8EpHNhcIK"
      }
    },
    {
      "cell_type": "code",
      "source": [
        "import re  # 用於去除標點符號"
      ],
      "metadata": {
        "id": "XyfA811izjHb"
      },
      "execution_count": null,
      "outputs": []
    },
    {
      "cell_type": "markdown",
      "source": [
        "#### 補充\n",
        "re：正規表達式（Regular Expression）"
      ],
      "metadata": {
        "id": "MKrA18NPO_-T"
      }
    },
    {
      "cell_type": "markdown",
      "source": [
        "[相關文章](https://chwang12341.medium.com/%E7%B5%A6%E8%87%AA%E5%B7%B1%E7%9A%84python%E5%B0%8F%E7%AD%86%E8%A8%98-%E5%BC%B7%E5%A4%A7%E7%9A%84%E6%95%B8%E6%93%9A%E8%99%95%E7%90%86%E5%B7%A5%E5%85%B7-%E6%AD%A3%E5%89%87%E8%A1%A8%E9%81%94%E5%BC%8F-regular-expression-regex%E8%A9%B3%E7%B4%B0%E6%95%99%E5%AD%B8-a5d20341a0b2)"
      ],
      "metadata": {
        "id": "Er4gj_7kmSSV"
      }
    },
    {
      "cell_type": "markdown",
      "source": [
        "##### 說明"
      ],
      "metadata": {
        "id": "PPYiWq24j9dy"
      }
    },
    {
      "cell_type": "markdown",
      "source": [
        "raw string"
      ],
      "metadata": {
        "id": "nbuNOh1YkBOz"
      }
    },
    {
      "cell_type": "code",
      "source": [
        "# raw string 與 一般字串 的比較\n",
        "str1 = \"\\new line\"\n",
        "str2 = r\"\\new line\"\n",
        "\n",
        "print(str1)\n",
        "print(\"=\"*10)\n",
        "print(str2)  # 無視跳脫字元 \\n"
      ],
      "metadata": {
        "colab": {
          "base_uri": "https://localhost:8080/"
        },
        "id": "GaeSf_JFjLOT",
        "outputId": "186e2d52-271f-466a-de2b-c7593b28e295"
      },
      "execution_count": null,
      "outputs": [
        {
          "output_type": "stream",
          "name": "stdout",
          "text": [
            "\n",
            "ew line\n",
            "==========\n",
            "\\new line\n"
          ]
        }
      ]
    },
    {
      "cell_type": "markdown",
      "source": [
        "可以加上 [ ] 來存放多個字元，並搭配 re.sub 來去除字元"
      ],
      "metadata": {
        "id": "OEs6f6RakXvB"
      }
    },
    {
      "cell_type": "code",
      "source": [
        "test_pattern = r\"[asdfghjkl]\"  # 匹配任何在 [ ] 內的字元\n",
        "re.sub(test_pattern, \"\", \"abcdefghijklmnopqrstuvwxyz\")  # (pattern, replace, string)"
      ],
      "metadata": {
        "colab": {
          "base_uri": "https://localhost:8080/",
          "height": 36
        },
        "id": "I8wfZxCSkP36",
        "outputId": "af339a42-3446-4ba2-b030-a0225240f5cd"
      },
      "execution_count": null,
      "outputs": [
        {
          "output_type": "execute_result",
          "data": {
            "text/plain": [
              "'bceimnopqrtuvwxyz'"
            ],
            "application/vnd.google.colaboratory.intrinsic+json": {
              "type": "string"
            }
          },
          "metadata": {},
          "execution_count": 62
        }
      ]
    },
    {
      "cell_type": "markdown",
      "source": [
        "##### 範例"
      ],
      "metadata": {
        "id": "VkYmeOiJj7_d"
      }
    },
    {
      "cell_type": "code",
      "source": [
        "x = \"1?2!3,4.5:6'7\\\"8[9{}]0\"\n",
        "pattern = r\"[?!,.<>:;~#$%^&*(){}\\[\\]\\'\\\"]\"  # 匹配 ?!,.<>:;~#$%^&*(){}[]'\" 等標點符號\n",
        "re.sub(pattern, \"\", x)  # (pattern, replace, string)"
      ],
      "metadata": {
        "colab": {
          "base_uri": "https://localhost:8080/",
          "height": 36
        },
        "id": "rQ37YsYc0RZc",
        "outputId": "10b0e804-81dc-4d76-9ac4-02f0e68dd53a"
      },
      "execution_count": null,
      "outputs": [
        {
          "output_type": "execute_result",
          "data": {
            "text/plain": [
              "'1234567890'"
            ],
            "application/vnd.google.colaboratory.intrinsic+json": {
              "type": "string"
            }
          },
          "metadata": {},
          "execution_count": 60
        }
      ]
    },
    {
      "cell_type": "code",
      "source": [
        "text = \"A? S! D\\\" F# G.\"\n",
        "pattern = r\"[?!,.<>:;~#$%^&*(){}\\[\\]\\'\\\"]\"\n",
        "\n",
        "seq = []\n",
        "for x in text.split():\n",
        "    x = x.lower()  # 轉換成小寫\n",
        "    x = re.sub(pattern, \"\", x)\n",
        "    seq.append(x)\n",
        "    \n",
        "seq"
      ],
      "metadata": {
        "colab": {
          "base_uri": "https://localhost:8080/"
        },
        "id": "A-G6VqMn16Ny",
        "outputId": "7fe829e4-93f1-408b-eb81-f895a849df30"
      },
      "execution_count": null,
      "outputs": [
        {
          "output_type": "execute_result",
          "data": {
            "text/plain": [
              "['a', 's', 'd', 'f', 'g']"
            ]
          },
          "metadata": {},
          "execution_count": 61
        }
      ]
    },
    {
      "cell_type": "markdown",
      "source": [
        "### 打造 web app"
      ],
      "metadata": {
        "id": "XTiUEbhpP01h"
      }
    },
    {
      "cell_type": "markdown",
      "source": [
        "#### 補充\n",
        "函数注解（Function Annotations）"
      ],
      "metadata": {
        "id": "Y7Cd1nXjm5mv"
      }
    },
    {
      "cell_type": "markdown",
      "source": [
        "[相關文章](https://mozillazg.com/2016/01/python-function-argument-type-check-base-on-function-annotations.html)"
      ],
      "metadata": {
        "id": "rCdaMeF_pN1V"
      }
    },
    {
      "cell_type": "markdown",
      "source": [
        "在定義函数的时候對 參數和回傳值 加上注解，用以方便他人觀看 \\\n",
        "\n",
        "`def text_filter(voc:str) -> str:` \n",
        "\n",
        "- `voc:str` 代表 參數 voc 的資料型態\n",
        "- `-> str` 代表 回傳值 的資料型態"
      ],
      "metadata": {
        "id": "gKS_vSdZnnDe"
      }
    },
    {
      "cell_type": "markdown",
      "source": [
        "#### 程式碼"
      ],
      "metadata": {
        "id": "0eraVmemnLTw"
      }
    },
    {
      "cell_type": "code",
      "source": [
        "pattern = r\"[?!,.<>:;~#$%^&*(){}\\[\\]\\'\\\"]\""
      ],
      "metadata": {
        "id": "zqQVDRylat8R"
      },
      "execution_count": null,
      "outputs": []
    },
    {
      "cell_type": "markdown",
      "source": [
        "- <font color=#FF3030>將輸入的內容轉換成小寫</font>\n",
        "- <font color=#FF3030>去除標點符號</font>\n"
      ],
      "metadata": {
        "id": "oKsT6PKQh6Pb"
      }
    },
    {
      "cell_type": "code",
      "source": [
        "# 處理單字 \n",
        "def text_filter(voc:str) -> str:\n",
        "    voc = re.sub(pattern, \"\", voc.lower())  # 轉換成小寫後，去除標點符號\n",
        "    if voc in word_index:  # 確認修改完的單字有在 imdb 的單字庫後再回傳，否則可能會因為有冷門單字的出現而發生錯誤\n",
        "        return word_index[voc]"
      ],
      "metadata": {
        "id": "_dMCTHLWQ6Cv"
      },
      "execution_count": null,
      "outputs": []
    },
    {
      "cell_type": "code",
      "source": [
        "def positive_or_negative(text:str) -> str:\n",
        "    seq = [text_filter(voc) for voc in text.split()]  # 將單字逐一代入函式運行，並將結果放入陣列 seq\n",
        "    score = model.predict([seq])[0][0]\n",
        "\n",
        "    if score >= 0.5:\n",
        "        return f\"我有 {score*100:.2f}% 的信心認為這是正面評論\"\n",
        "    else:\n",
        "        return f\"我有 {(1-score)*100:.2f}% 的信心認為這是負面評論\""
      ],
      "metadata": {
        "id": "7zZXp8LzrDUB"
      },
      "execution_count": null,
      "outputs": []
    },
    {
      "cell_type": "code",
      "source": [
        "iface = gr.Interface(fn=positive_or_negative, inputs=\"text\", outputs=\"text\")\n",
        "iface.launch()"
      ],
      "metadata": {
        "id": "kD43uriSp7jQ",
        "colab": {
          "base_uri": "https://localhost:8080/",
          "height": 648
        },
        "outputId": "24103a75-2a64-47eb-fe27-f6dbe66ad4e7"
      },
      "execution_count": null,
      "outputs": [
        {
          "output_type": "stream",
          "name": "stdout",
          "text": [
            "Colab notebook detected. To show errors in colab notebook, set `debug=True` in `launch()`\n",
            "Running on public URL: https://35565.gradio.app\n",
            "\n",
            "This share link expires in 72 hours. For free permanent hosting, check out Spaces (https://huggingface.co/spaces)\n"
          ]
        },
        {
          "output_type": "display_data",
          "data": {
            "text/plain": [
              "<IPython.lib.display.IFrame at 0x7fae845ca110>"
            ],
            "text/html": [
              "\n",
              "        <iframe\n",
              "            width=\"900\"\n",
              "            height=\"500\"\n",
              "            src=\"https://35565.gradio.app\"\n",
              "            frameborder=\"0\"\n",
              "            allowfullscreen\n",
              "        ></iframe>\n",
              "        "
            ]
          },
          "metadata": {}
        },
        {
          "output_type": "execute_result",
          "data": {
            "text/plain": [
              "(<fastapi.applications.FastAPI at 0x7fae87993550>,\n",
              " 'http://127.0.0.1:7866/',\n",
              " 'https://35565.gradio.app')"
            ]
          },
          "metadata": {},
          "execution_count": 53
        }
      ]
    },
    {
      "cell_type": "markdown",
      "source": [
        "#### 運行結果截圖"
      ],
      "metadata": {
        "id": "bzstSZE5ZAEu"
      }
    },
    {
      "cell_type": "markdown",
      "source": [
        "輸入：I love the camera movement and soundtrack of this movie. It allows me to immerse myself in the movie.\n",
        "![image.png](data:image/png;base64,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)"
      ],
      "metadata": {
        "id": "YjCTT1reaIWN"
      }
    },
    {
      "cell_type": "markdown",
      "source": [
        "輸入：Could of been so much better if properly \"cast directed\" and a \"better script\".\n",
        "![image.png](data:image/png;base64,iVBORw0KGgoAAAANSUhEUgAAA7YAAADZCAYAAAAUsKyKAAAgAElEQVR4nO3deXhU5f3//9eZmZCELQuyhk0BpbgALohLtWgtFreCip9q/daqdWnVCirWD0IRsdaI4E/oh1KXamm1IkIVN6xLi6gsIuBCURYJEFbJQoBMSGbO749wxlnO7DPJDHk+riuXkpmcc8+Zc877fp97M0zTNAUAAAAAQJZyNHcBAAAAAABIBoktAAAAACCrkdgCAAAAALIaiS0AAAAAIKuR2AIAAAAAshqJLQAAAAAgq5HYAgAAAACyGoktAAAAACCrkdgCAAAAALIaiS0AAAAAIKu5UrUh0zRTtSkAADKWYRhNsh/iKgCgJUhVXE06sbUCLwEYANCSpCvBJa4CAFqiZONqwomtf+AN/gEA4EhjGEbAj//vU4G4CgBoSVIdVw0zgYhp/YnX65XX620MvDKarHsWAADNwTRNGTJlGIYcDoccjsapKpKNf8RVAEBLlMq4mnCLrdfrlcfjkdc05XA4RegFABzpGgOtIY/X40tGrSCcLOIqAKClSWVcjfuvrG5R1lNlh8OZ0I4BAMhWDoczsHU1ie7CxFUAQEuXiriaUDpsBWAZrBYEAGihDIcvACeLuAoAaPGSjKtxRVD/iSw8Hk/Kul8BAJBtHA6HPB5PUpM8EVcBAGiUbFxNuMWWWRoBAC1dquIhcRUAgOTiYXJdkQEAaMFS3hUZAIAWrMm6IgMAAAAAkGlIbAEAAAAAWY3EFgAAAACQ1UhsAQAAAABZjcQWAAAAAJDVSGwBAAAAAFmNxBYAAAAAkNVc6d7Bhk1lGvPbyaqurrF9/bKLLtBdd/xS8/75pp6Y9ZeQ16c+NF5btm3XE7P+oqkPjdeQUwcGvO5212niQ9MkSUcVF+m1t96z3U9BQTtN/8NE9T2mV5KfCACAzGDFwKXLV/l+ZxfvrPcNOWWQrvjJj0O289gTT0qSfn3T/wvZnr+ePUo049FJ2ltZFRLbg/e7/JM1euJPz2rGo5NUVFQQsJ0Nm8o06aHpmjR+jCoqqnT3+IfCfsY7bv2FbZkBAPCX9sS27zG9tHDu05K+C6xXXDYiJEGVpKFDBmvy+LHKy8sN+L31XrsAaSWy1t+NG3OLpMaAOu+VN2y3BwBAtrMeHP/86itU+uB9vt8v/2SNrr/1noQSwry83IBtzfvnmyrbsk133fHLgPftraxSQbvQRHbMbyfH/RB5yKkDtXjRXElSZWW1xk+eqrG338iDaABIoeDGxkRihJXL/ferDRnZYJg1XZEvvvA8devaSc/Mmev73fJP1ui55+fppl9cTfIKAGgxKiurNen3j+vnV18RUjEZcupAPTPrUf1z4SJt2FTWZGUacupA/eDsoVr92dom2ycAIDorZkwYd4cWL5qrZ2Y9queen6fln6yJeRsbNpXpxl/fqxMGHJfGkiYnaxLbvLxc3fSLq/XvJUu1/JM12rCpTA+WPqEJ4+7IuKcFAACk07v/+UjdunbSxReeZ/t632N6afDA4/XKa283ccmksi3bmnyfAIDwrJhx0gn9JTXGiB+cPVTzXnlDbndd1L93u+v0ymtva8bUB9S/X590Fzdhae+KnEp9j+mlCePu0LN/nydJ+vnVV9h2aQYA4EhWtmWbhpwyKGJvpV49u2v5ytUxVVpSwe2u064932rIKYOaZH8AgOjc7jotX7k6IGZs2FSmfy9ZqoL27VVb647a8zUvLzdkSIqd5Z+sCZgzIdww03TJqMR26fJV+tFl1/r+bU1S4T+mdsipA/XBR8u1a8+3YZ9UAwDQ0vXs3k3LV65usv299tZ72r5jt84/98wm2ycAIDY9u3eT1Dh3wj9fe1sTxt2hJ2b9RXsrq0Im+EvEhk1lemLWX/TMrEebrTdtRiW2sWT1yz9Zo1WfrVW3rp302lvvMVMiAAA2tmzbHtf7e/XsHtf7q2tqdP2t9/j+PXTIYD018w8xP5lv376dOhQVxrVPAEBiat1ujZvwsDp3PEp/e2q6NmwqS/l9uLqmRqs/W0tiGwv/cbX9+vTW7fdMUs/u3eiODABoUaxuxhdfeF7YRDK4u3LnjkeltAzBsyIHKy4uVPt2bVO6TwBAYiY8+FjA0qkVFVXaV7M/Zdvve0wvTf/DRI357WTfEq52S7WmU9ZMHuV21+nPf3lePzh7qIacOlBFRQW645br9MSfnlVlZXVzFw8AgCZz/rlnavuO3frsi3W2r2/YVKZVa77UoJMG+H4XbsxtZWW1Vn221tdNLVU6FBVqX81+rd+4OeS11Z+tVdu2rZWfn5fSfQIAAuXl5WrIKYM0dMhg3+RRUmOvnsEnDUhJN2SLtczr4kVzNfWh8Xqw9IkmnZ0/axJba+zO9deO9v1uyKkDNfikAQFLAAEAcKSzHu7ePf4hzfvnmwGv+a9j69+aOuikAfrvVxv0xz//NeD9z8yZGzBbZirLOPikASEVmw2byvTc8/N0xWUjWKoPAJqAdf9/7a33JH13H/7+mUMC3rdhU5kuGX2DfnbjmKQbDouLC1XQrl1S24hXRnVFDp48SmpcPFiSnnt+nqb/YWLIU4Xrrx2t2++ZpMeeeDKm2boAADgSDDl1oN5+ZY4mPjTN1+1Lapx48ZV/PBkSL/se00t/nT1Nt98zSecM/+4h8WUXXaDSB+9LSxnvuuOX6tWze8BY3IKCyF2YAQCplYpuwo898aReef1fvn9b93VrO8EzIluvNeW93jBN04z1zaZpyjRNNTQ0qK6uTrl5+eksGwAAGa3OXavc3Fy5XC4ZhiHDMOL6e+IqAADfSSauZk1XZAAAAAAA7JDYAgAAAACyGoktAAAAACCrkdgCAAAAALIaiS0AAAAAIKuR2AIAAAAAshqJLQAAAAAgq5HYAgAAAACyGoktAAAAACCruZp8j6Yps8l3CgBAeIYkGUZzFyMxxFUAQIZpjrjaZImtaZoB/wUAIFOYOhyEJRlZkuASVwEAmao54mraE1v/wOv/IwIxACATGIYMv5/vfp2ZCS5xFQCQ0ZoprqY1sbWCr9frlen1yuFwKCcnRy6XM527BQAgLg0NHjU0NMjr8chwOORwOGSaZsYlt8RVAEA2aI64mvYWW6/XK4/Ho5wcl3JbtUr37gAAiJvL5ZTL5VTdoUOqr2+QJDkcmTm/InEVAJDpmiOupm3rvu5Rh58oE3wBAJkut1WrxqfKXu93XXwzBHEVAJBtmjKupjVtNk1THq9XOa6mn3wZAIBE5Lhc8hwOwJmGuAoAyDZNFVfTk9j6TWbh8XgY+wMAyBoul1MejyezJmUirgIAslRTxdW0JLam3/9l4uQbAACEYxjG4afKh2cfbt7iSCKuAgCyV1PF1fR2RfZm1vgkAABi0TiWNfPiF3EVAJCNmiKupn3KRwIwACDbZHLsyuSyAQBgpyliV2auZQAAAAAAQIxIbAEAAAAAWY3EFgAAAACQ1UhsAQAAAABZjcQWAAAAAJDVSGwBAAAAAFmNxBYAAAAAkNVIbAEAQErMnf+6xt43RbVud3MXBUkqnT5bc+e/HvC7WrdbY++bEvL7pjR3/usp3f/SFat11XW3q6KySpJUUVmlsfdN8f0bTSvV9xC78zjd+0TzcTV3AbLF0hWrdee9k/X4IxM19LRBUd9f63Zr/ANTJUkP/e5u5eflpbxM6zdu1u13T1JV9T6defrJtvtpinKg+VRUVunWMRN0ysATNG7Mzc22jWxkfW5JmjX9QRUXFQa8Pnf+65o282lJ0tjbbtDoURc1eRkznXUPuv7aKzk+WWru/Nf18qtvadb0B/XO+x9KUsLfZUVllf71/ocad+dNxJomVlFZpXsnlmrcnTepX5/eAa9Z9YDRoy6Oqf5ibW/9pjKNvHR4wO/z8/L00O/u1sNTZ2nwwOND9hWL9Rs3a84LC3Tf3bcmdJ5cMuL8kP3736/D6dWzxPZeP/S0QZoy4S7dO7FUj0wep70VVWrbpo3y8+MrW6zHuXT6bEmKOd5asapsS3nMZYm1rpqM0umzNX/hoqS2YVd3te4/M2Y95ztGsXy/kn2svvG6q3TvxNKw5+v6jZv1zJyXJEnbyncmdE4jc2R0YmvdJD5a9mnA70ddMrxFVcDtWIk2FW4g9Uqnz9Z7iz/WnCenEeSaUPCDuIVvvKtpM59ukkpaSxFcQRx72w168dkZkqTNZdvUu1f3iBV0/weq4Vz7y7FRyxHtO41UmberDNu9P966gl1FPVw5I1W0g/8muGzhEiyrDCvXfBH29XDeef9DXTDsLNv7VW1tYyvUsX1jv5e98/6H6ndML61a82XY7/Pt9z4I+V24h+z++vXprRMGHKvxD0yN64F78DG39m/t078uVOt26+Gps3TtT0eqX5/evmQ6XLLar09vPTnj95IaP3vbNq3jTrqtpH/8A1O1eMmysOfe7bf+XOMfmKqlK1bHfF8r6do5pnPC/x4azKo3JsP/3B435uaI19fSFas1d/5rMX/Hdtff/IWLbL/f9Rs3q/TxP+uRyePCHpPg88U6j/3rzbVut2Y99Tddf+2V6tmjRLOe+huNQFkuYxNb64Qce9sNmvbw/SGvjb1vSos++RYvWaZePUv0w2FnNXdRgKgi9Xhorla/4qJCX4XeX0VllVau+ULnnXMGSS2OCP4VxrG33aCxt90gKXzLrH8FfcvW8oD39evTW28teDbkbyK1GCYjloe3FZVVmlI6M6Dib91Xdu7eE1NdoXT6bO3cvUfvv/G8773WfStcghwpQbXY3d9Kp8/WrWMmhPzt0hWr9d7ijzVj6qS4ktr1GzfrX+9/qEcmj7N9/Z33P9TQ0wbHvM1at1tfrP3alxSm475sbTOe5Hb0qItiLkttrVv7DxxQh+Lwnzlc44klXGtkpO89Py9P0x6+X3/88xyt37hZeyuqwiaTdvuN5cFAooaeNkhL35sf9nXrOrp/3G1xnX92at1uzZ3/mkaPujjmzxItUY5XtPPF+v67dOroe9+WreVxP3BBZsnIxDZaa0k8N7cjWUnXznF3lQEQm969ujd3EVq8nj1KVFjQPmLlFNEFVxhjGZ9oVdBLp8+OqWXpqWdfDNtimIi9FVWqrq5Rzx4lUd9bXFQY8gC8X5/emvS/d+rOeydrzefropb/mqsuU0m3LgG/G3raII297QY9M+cljbx0eMBn21y2LaYYvGrNlyooaBfwEHrkpcP13uKP9fWGzb5yVVRWafofn9b1114Z8zEMbgkecfn1vtesh4i1breWrlilj5Z9GtLCXFjQXjOmTgrZ35rP1+mrDZvSft3ZdTlNxtz5r2tz2TaNG3OzbXfizp2OCkhWrHPcX3BLb7ClK1Zr8ZJlURO/X990rSSpXx9FTCZjVb5jV8D3G83oURcnvc9kLHzjXUnSwBP7p2R70Vpo4+1u79+yffutP/f9fvSoi7S5bJuuu+WeuHtNIDNkXGK7dMVqzV+4SI8/MpHWEgBoQfLz8tSlU0ff/6P5xZJwWHFbUtRxcOlskQrWobhQhQXttWVredTKbnBSaxk88HhpzktatebLhOokdglwh+JCFRS0C3jfU8++qFMGnhD3Q/vgLqrBXVHXfL5OXTp1DEmurAQumNXS5v/vSK2a/mL5boPH144edVHMD0/CdYO3knhrW2Pvm6KTju+vEwYc6yvL3ooqHThwMOpn2Fa+U5LUvcT+fFi8ZJnOOft029eCu9KGe3CQiFR0RU6HaN2bh424OuxrwT24wm3Lel+/Y3rpnfc/tL1G1ny+TuU7dgV0t7c7X0ZdMlw3XndVxHlFxo25WXPnv64Rl1/PMJgslFGJrXVDHXXJ8IROJLuTONJYnHAndbxjXIIvxjNPP1n3j7st7vLbjdkJ7oYV/B7rphHrWNvgG2+kQBR8PCPdpO2CX3CZgsfPzZj1XEBZ4hkvHHzMw3UVi/WcsONf3vvH3aYppTN9n8//WATvw66b0tz5r+uZOS/ZHr9oXXGDv/Nwn9XuO4j3pmy3jUjj1KKdI8GvW99Zr54levh39+i+Bx71tTZMm/m0ps182vY8Cz5v7crkf4wXvLpI8xcuiumclRrPR0kBnz1SeSz+9xJr3FS0YxdLOe3GC9qdV9GuqUjnerzX7F13/FJj75uisi3lvu3aba98x66w9854J+HrUFyogvbtbF8LPkZ235Pd9Z+K1pNsEmlMbLgk1O734b6z9Rs3a/rMp2Maj26NuYvF3orGGWkzsbW+1u3Wzt171KVTx5gS9PIdu1Rb6w5IsmR+99mWrljtq3OkUkVllebOfy2u+ojV0lbStbMk+1bNVLvxuqv01LMvauCJ/aOOzbXrBu9v3JibVTp9tt585z8hxzOWXjgLXl2kt9/7wHb8sMW/W7///dK/Z8Tc+a9r6YpV6l7SJeaxrdk6f4x/nLFatO3inqSA7vjBonWVPufs0zV3/mu6ZMT5Ia8tXrJMl196YUDcCXe+lE6frcsvvVCjR11kW++2voeePUo0d/5rUc9LZJaMSmy3le/U2nUbEupCYVV8/YOvVdEa+dNbUvbUzG6/wd2ml65Yrauvv1MF7duppFvnqNvwn531jZefCRkjtHTFKt9Nw+qGbY0HivXJd83+g7rjnsm6YNhZvhuHtV+7Lhf+Y5ytG9Hc+a/r2l+ODangWOUc0L+vb3yS9TurW5C/8u27NPKnt2jS/95pO+NdtOTWevDgf6ys6f/9/zZV50T59l269c4JmjLxLk17+H7fNm6/e5L+5/KL9eY7/9Hzzzyu4qJC3zGdUjoz6VaJcOeF3WddufoLXXfzPb4yWp8/niRi5+49uu6WezTm19+Na480Ti2Wc8QKLOESmhefnRExsbc7Btbvwo2zn/PCAp0w4Ni4ExirAmdt3wp8sYj32EUqp91xlRq/z3BPkOO9vuO9Zmv2H9RjTzypKRPuCnvN5OflaehpgzVt5tMBXSz9LV6yTGeefnLE7mn+++7Xp7defC50HLTdMQoeH2a1DC144U8BYyZbGrvKXXAlM9rvw7HOmUy1as2Xkg63ujbTNqxux/4tTQteXaSSbp3VvaSLrwvymF/fkPJuj437vDjm7Vpjde8dc7P+78k5KSuH/yRCdoqLCn3XfbjEKFbWHAnBx3PxkmVRE9v1Gzdr/aaygHhrx6oDhOsmv3TFat9M4433xcgJWyxS3RW5dPps9e7VPauG9R3bt7dq9h/0tapb1m/crJWrvwiZwTsc/3Mr0tDGoacNorU2C2VUYpvoE1r/7sv+J2F+Xp7uH3db4yQNaZjpLFy36aGnDfKN7YklsX3q2RclhS454j9GaOEb7yZ1A/r8y3UhFeXiokJNmXCXbr97UkDQtaY+D37/JSPO19IVqwKeYFkzyg3o3zfg+Pbr01vXX3ul7diksq3lId+Vte2lK1bpkhHnh/2erKB1ysATAo5V8LFJ5Tlhldf6DPl5ebr1xp/p9rsn6R8vvxYw0UdxUaHG/PqGmMd1hVPrdmtK6UyVdO0cdir8SGWUGp+Cr1zzRcxPHD9a9mnI8Qo3Ti2ecyQZdtdGpGNcVb1Pbdu0bvJgHc+xi1TOcMdVahwHtHP3Hk3/49Mh94p4ru9ErtnPv1wX0/CQHw47Sy+/+pYWL1lmO0nYe4s/1vXXXpnUebF0xWrbmZKDx1n269Nbk+8fE/C3VFLis37jZr397ge+8YLBr90/+TE9OuW3emnBmynf95at5aqq3hcyI2+sD+qshx/JDGuqqKzSy6++pQH9+wZ0Ta2tdat8xy59tOzTqD0k+vXprRlTJ+n2uyf5Ht6OumS47yHplNKZOmXgCSk/N9d9tUEHDtbqh8PO0tj7poRMCGQ3udLb736gcXfepOKigu/el4KuyFu2lsfcuj3wxP56Y9H7Wr9xc9jeTeG6Igc/QA1eEtF/LKWdBa8u0gXDzore3TfCLNNWD4YpE+/ybSfW5XrCtdiGm+gwU81fuMh24i1r0rpwonVFLi4q9M3UbT1oqnXXadZTf9Pll10Y0/li9aj074EXTlMOm0DqZFRiu2Vr7Gt0Wazuy+FaAYqLCnX5pRfqmTkvpXR9qmj7PbZvb/XqGX3SC//Knt3NdOCJ/XXm6SdHTfiiCTeDcveSLhrQv2/A9he8uihksgvpuxYZ/2O55vN1vkp9cNnCjU3q1bMkJCBY23751bcCumyFs3P3HtW67d+X6nPCrrzWGKmSrp1DxuLEM64rnEjH1Y7dZy0uKtQpA0/QyjVfxHRMo53L/slKPOdIoiJdG3ZlsoQb/5RO4Y6ddf3GWs5wx1XS4R4bF+vOeyeHtIiGu7779emt8845I+D6TtU1a8f/nKuorAr43uwm0YlXtGsbyenZo/Gasrz97gf60fnfD3nf0hWrNen3j2vG1EnqXtJF+w8ciGmJH6nxWomFXUuK1QvFLgEIrsSeefrJATMcx8u/NXrKhLsCtmOXaFjvt+sNFK5L5MI33lX5jl0JDV2yhGvJ859EZ/Soi2PqRWQ9wKiorPL9LhVdkTeXbYv5vpyfl6cRw4dpwauLQr7jcMex1u3W2PumSJLvOy+dPlvnnH161K7LFv8ZqaP5esNmdenUMSQuVVRW6f4HH9OY224I+P6zKTGN1DIca1fpcENwoomlZdva7vqNmyVJ+Xm5Yc/PSOeL1JgwDzyxv2+ysA7Fhb5eP3srqjTnhQVRy4zMk1GJbSKsJ6enDDwh7A27Z48SVVXv096KKvXr0zT7zc/P841RiWRvRZWqqveF7dJiTaYSa3ISTrjZG4O3LzUmjeHeH3wst2wtDztrqZX8bS7bFlNZJKm6ukZ7K6rCPjG1ktJpM5/WsBFX295AU31ORCpvrE+h4xXpuKarHOG2YZ3L1sMEKb5zJFGRro3gMlnlbq4ZdKMd/1jKaY3bi3S+hXtoEm12Vv8xfqm+ZoOdc/bpmr9wUUDybc3MGtzTIl6xXNuInX9r3NjbblDPHiW+c3XN5+t04MBB21aQp/861zf8otbtVts2bVI+xtaOda9/b/HHIb0Kgiux6zdu1sif3qKCgnZxz25qtfbGM/mPf8usXVIWzOqdMel/7wwYYhHLWrf+ok0eJTUmDFu2lifd8ysRFZVV2rl7T1xr6EZqtbUTnHzXut0aeelwlT7+Z3UoLoy6jfUbN2vS7x+37SEQSXCvsK83bFbZlvKAuSSSmVnXbl3XeMXb6hjrJFVApsqoxDaRCrG1JECksRNWZTCVYtlvLGJJYHr36q6Va75Iaj+R+G/fqjiWbSmPOJudZXPZtqjB4JSBJ6SsrFLjk/xLRpyv8Q9M9XV58U9wm+ucSKXNZdtUUNAuIyZOsR5+7Ny9R1L850iirB4ckSbdiLX1p7kEH7tIYkna7GZTjSb4/pHua9Zqpfbvjr6tfGfjWPUbf5bwdqXE7rvBLXktbfIof8HJkzWJmf+48Jr9B1W+fVfYSYf69emtJ2f83vfv2lq3duyKfn6nijVmNdosxf369NbzzzyuW8dM0FPPvhhTS5N/op9IUmL1kLDrsRC8n1lP/U3nnXNGQJfZSf97py9JCrfWbaIuGXG+Hp46S4MHHq9+fXrbLocTjt0EO3bshlDEsx9Lfl6eThhwbEwPCML9fb8+vTXuzpv09rsfRDxPrFbW8845I+59BU+A5N/iaC1PI8XenTvSZFR2oi2Bc6SIdPyCW5f9E/lwEyTaTT6FI0dGJbaRuheGE0tFz2r5SaVEKph2YlmjL7j1JNX8t2+1hIWbMTpY717dk34qmQj/J7T+TzXHjbm52c6JVEr3w4x4WC2JlnjPkURZa5ima+K3phB87CKJpZeHldjFI/j+ke5r1q47uv9kOcmI576bSKvbkcg/mbW+93fe/1BS6Hj9DsWF2ldTo5/dOEaPPzIxpvNjb0WV9u2L75xMRjznQKSu8cGCW68TbdmM5d4d3AV51ZovNaB/34Du9XZr3SYjPy9P1/50pL5evymhayHaMQnX1XTVmi8Dlt2JxH8poB8OO0tTSmcGfG92iYqVyKz5fF3jjLk/Pl8L33xXD/3ubvXr09v3Wa2uyf7HMniFDGtCJeshwLU/Ham9FVW+ia+sGaNjOTdWrflS/Y7p5evVIEUeH243S7C/eNdpbU6JjrENNxb58UcmhnQ3jjWp9+9NEnyO+j80958F20qWM/3BOexlVGJrBSG7bkbhWJXBSGNQg1tFw3VjlGKviEbbr9X6Eq2iapUp3NPnWLonxiJ4uYHg7ft3EbRamMKNYfXXs0dJ1O7D6WZNqmNVXhI5J9ItUm8EuyS7Z48SlW0pT1mlJhbhvnPrXL780gt9r8VzjiTK+m5SOYQgXeI5duH4DwsIVwkP1z07nuu7Ka5Z/7G6HYoLfbOUJnuuxHJtS99N+pOty2ekUjzj+6zje/mlFwbcd+bOf109e5TY3ov2VlSpbGt5ysfYhpPIw51YzJj1nO0kcPGK9iA6uAuy9TfBwxlS9fDcn3+i19iS2jqtXforKqv0r/c/1Lg7b4r7b4uLCtWlU0fbGOg/OZQ1DrJxeMZg5efn225v5KXDNeeFBQGTGr7z/oe+2e8rKqu0flOZRl46XPl5eWrbprX2VlQFzMQ7eODxKn38z/rhsLOUn5+n/QcO2tYhat1ufbH2a13705Fxf+5w1ny+TpJC5hbYum170mNiUy3RMbZSYFfodK/JyxjbI5OjuQsQ7MbrrmocE/PU33xPuSKxWgc+Wvap78L3Z1VwzjvnjIBZbbt06uirDPqzlhyKdb9r120ImXpcarxhRpsBT/pu8qaXX30rYMIGizXRy+hRFycVgKwkKdz2/Sd2OOfs08Mez2DH9u2tgoJ2WvBqcuNAkmF9n1byn8g5kW7+YyOD+U/WYrF6L8yd/1pM10EqRDqXq6trApa7iOccSZR1bTTlMUhUPMcuknPOPl1lW8p9LWr+Ik2cFM/13RTXrP+kVWs+/69vv8mKdm1bUjVUpCWpqKzSdbfco301+7V0xSrfNWdV0sM9BLSWcHr/jee19BarWxoAAB24SURBVL35EX8ef2Ri0uWMNMGa3Weym0U/mDVR3ahLhieV1FrbCV5P0xLcBdmf/xwGUuhat9no6w2b1e+YXjHH2eBku3ev7rbxMVhtbeM5anefrais0tj7pqh163ztP3Ag4L7hP0HZ3ooqde3cMaBXyZat5b6ZePdWVKl7SRe1a9taX2/YHLEL/sI33lXbNq1DPved907W0PNG2f5EGktrLQllVw/s0b2b3nj5GdvrraU/1EPLlHGJbXFRoWZNf1DlO3Zp2IirbdcdLJ0+W2Pvm+ILAqNHXaRRlwzXnfdODni//5IpwdO8j7x0uKqra3zLiUiNN4/Sx/+sgvaxPSX94bCzVFDQTrffPck3Q5vU+GTqX+9/qBOPjz5rp7X8jCTdOmZCQHJrTWgw9rYbUtJqF3x8rKnVg4P50NMG2R5P62/8u8xYS6/MX7gopCuNFVDsEvZEVVRWqXT67IAKgFWZGHraYN9NP5FzIp2siv4zc14KOVdWrv4iZLyvtVTL2nUbNP6BqQGft3Hh99Svx1lVvc/2XJ4282ldf+2VIUtaxXqOSIHDDIL5z8zt/zmtZZXsjkGt262JU6YHlLU5xXPsIhl62iCNve0GTZv5dMgT7hmznvN1X7R7yBXr9d1U1+w5Z5+utes26E9PPx+2op+IcNe2/70h3APDaN39WqrS6bN19fV3asqEu3yzwlrdLq0HNnbdyK3EMdkHr8Fq3W6VTp8dch5aw06C1ygtnT475HrxXwP7xuuuCtj22Pum6MKR1/muV6snRKwz9zZOghW4P/+1ocON4bOOqV19ZO26Db6ky0qAY+m+b81iayVIw0ZcHdPSPFu2lqf9wc/iJcvimqU+uEyjR10UU3JWvj38Obq3oko1+w8qPy9XQ08bHDZRDu4y7V+O3r26a8vWct+DtcVLloVdntJaC3jn7j2++401dCrag59wXZyfevZFyZQm/f7xFrkWNxCPjOqKbLG6TkVb08rfuDE365yzTw95f7hxIf4zGFpPyqyxWAteXRTT+MbiokI9+6dHNf6BqQHdsEZdMlxPPDox5i4U1uctnT47oEtJKseGnXn6ybrrjl9q7H1TAlqSw3W7GjfmZvXu1T3keNp1MRl62iDNeXJawLGUkp8R0E5xUaHOOfv0gEmLwh2neM+JdLOOW/C5MmXiXb5lJfz169NbC174k8Y/MDXg86bqQUewUZcM18hLhwdMtFNY0D7sbKfxnCP+a8/OX7go4NzwXxd42IirA75P/wlgYvnOm0u8xy6S0aMu0uCBxwese2ntI1yX0niv76a4Zq2W4XharGNld21bZbcqpg/97m6Nf2BqwD01FS2GRxL/SYv8r1nreuzZo0RbtpaHHSP5zvsfqqRr57iWXop1Bvedu/fYTgxjt4TPuDE3a+781zX0vFEBv4/3Xh9porrga2PazKdDJlSK1I156YrVvsm6gsvvXx+x7h+xdiONZVbkYNYs5aNHXRx1+xa7zxsseAxluPLv2LXHduhErMsC+X9PZ55+sl5a8KbvHO1QXKi2bdr4Xt9bUaV2bVsrPz8v7LkQrcu0/zJY1jbmzn/dN4bWfzulj/9Z4+68yTemc+h5oxKuc1jfZZdOHfXiczN8D2uqq2tiWpaoqXy07NOQiSTDtUD7n0N237XdckPxnKfBgpciizbOF9nPME3TjPXNpmnKNE01NDSorq5OuXn2Yxms93kaGuSuq1OH4qKUFRgAMkXw5CNNzb8Sm2kLyftXyrKxS9zeikrl5ebK6XLJMAwZhmH7vjp3rXJzc+WK8r5wmiquBi8dEm0sqZX0hlsuZ+mK1Zr+x6cjPgixezid7BhWfKeisso3JjA4sQ2eZCj4u4iUOAdv12qdjmXyqGgJXKQZbqMtTRP82fwnm7L+xm4Comjn3NIVq7V4ybKA4zF3/uvaXLYt4Hf+x9CurHYTVFnbimVW6eDtWpNZBR/TcJMsxbK9VC8fZC3hFW/8CTeZl/95F2nCrFgmj6p1u33jZ/0nj7JW1Rg96mLbMbbnn3umHiydyRwNadAUcZXEFgASRGIbnt0SJtnkSEtsAQBoTk0RVzNujC0AIPsteHVRyBImAAAA6UJiCwBIqaUrVuu9xR/r1ht/llGtyAAA4MiVkZNHAQCyjzWGK9Mm9wIAAEc+xtgCABCEMbYAAKQOY2wBAAAAAIiCxBYAAAAAkNVIbAEAAAAAWY3EFgAAAACQ1UhsAQAAAABZjcQWAAAAAJDVSGwBAAAAAFkt7YmtYRiKY6lcAACalWmaca9H25SIqwCAbNJUcTWtia3haFxU91B9fTp3AwBAyhyqr29cFN6RecktcRUAkG2aKq6mJbE1/P7PMAzV1rrTsRsAAFKuttZ9+MlyYzTLhPSWuAoAyFZNFVfT02JrNAZewzDkdDrV0NCgmpr9adkVAACpUlOzXw0NDXI6nb44pkzolkxcBQBkoaaMq660bPUwwzDkdDiUk5OjWrdbh+rr1bp1vvJyczN6/BIAoOUwTVPuujodPFgrj8ej3NxcOR2OjIxTxFUAQKZrrriatsTWKrjhcMjpdCo3N1f19fWqrt6nioYGmZK8Xm+6dg8AQFQOh0OGJKfLJZfL1Rh8nU4ZhwNwJiWLxFUAQKZrzria1hZbqfHDSZLDMORwOORyuWSapu8HAIDmYgR18XU6HDIcDl/sykTEVQBApmrOuJr2rsimacrhcMg0DN9TZtM0JYIvACAT+AVh/6fJmdRaayGuAgAyXjPF1bS32Pp/ANbeAwBkqkxOaP0RVwEA2aCp42raE1uL74NJIgQDADKJIWXG7MdxIK4CADJVc8TVJktsfQwjI9YEBADgiEBcBQAgTevYAgAAAADQREhsAQAAAABZjcQWAAAAAJDVSGwBAAAAAFmNxBYAAAAAkNVIbAEAAAAAWY3EFgAAAACQ1UhsAQAAAABZjcQWAAAAAJDVkkpsTdNMVTkAAMgq6YiBxFUAQEuVbAxMKLE1DEMOh0MejyepnQMAkK08Ho8cDocMw0h6W8RVAEBLl2xcTTixNQxDnob6hHYKAEC28zTU++JhsoirAICWLtm4Gldia+3IMAw5nU6Zpim3uzahHQMAkK3c7lqZpimn0xkQG+NFXAUAIDVxNamuyC6XS16PRwf21+jQoUOMDQIAHLFM09ShQ4d0YH+NvB6PXC5XyrsiE1cBAC1FquOqYSYQNU3TlNfrlcfjUUNDQ8CP1+tNqCAAAGQyK/H0/3E6nSlJbomrAICWJtVx1ZVMQST5uk+5XC5fYAYA4EhjBVor6Fo/qdy+RFwFALQMqY6rCbXYSt9Nx2yaZsgPAABHGv8xP/5jf1LRFVkirgIAWpZUx9WEE1uLfyAGAOBIl+qENhhxFQDQkqQqribcFTm4IAAAtATpjnvEVQBAS5KquJd0iy0AAAAAAM0pdbNeAAAAAADQDEhsAQAAAABZjcQWAAAAAJDVSGwBAAAAAFmNxBYAAAAAkNVIbAEAAAAAWY3EFgAAAACQ1UhsAQAAAABZjcQWAAAAAJDVSGwBAAAAAFmNxBYAAAAAkNVcqdqQaZqp2hTQIhmG0ST74VoFksO1CgBA6qQqriad2FqBlwAMpEa6Ks1cq0Bqca0CAJA6ycbVhBNb/8Ab/AMgdoZhBPz4/z4VuFaB1OBaBQAgdVIdVw0zgYhp/YnX65XX620MvDKarHsWcKQxTVOGTBmGIYfDIYejcfh7stdU8LXq+eYledf/Rdr7qeSpS7rcQIvizJU6nCxHv1/IefSVab1WiasAgJYglXXghBNbr9crj8cjr2nK4XDGvWMAobxejxyGIafTKYfDkZLKsnWtNnwyXvpqVopKCrRwx90q16kPpeVaJa4CAFqaVNSB454V2eoWZT1VJvgCqeNwOANbbJLoguh/rTZsmktSC6TSV7PUsGluyq9V4ioAoCVKRR04oeV+rAAsg9WCgJQzHL6LOlnWtWpueDYFBQPgz9zwbMqvVeIqAKDFSrIOHFcE9Z/IwuPx+PpAA0gdh8Mhj8eT1MQxwdeqUbEqDSUFWjajYlXKr1XiKgCgpUq2Dpxwiy2zNALpk6przLcdJooCUs9Tl/prFQCAFiyZeJhcV2QAaZHy7o0A0oJrFQCA1GmyrsgAAAAAAGQaElsAAAAAQFYjsQUAAAAAZDUSWwAAAABAViOxBQAAAABkNRJbAAAAAEBWI7EFAAAAAGQ1ElsAAAAAQFYjsQUAAAAAZDUSWwAAAABAViOxBQAAAABkNRJbAAAAAEBWI7EFAAAAAGQ1ElsAAAAAQFZzNXcBEF5Dg0d7vt2rsq3l8ni86nRUsbp166I2rfN975n3zzf1xKy/6LKLLtBdd/yyGUsLHDkchf3lKDlfjqITJYdT5oFt8u5eJs/WtxLeprPruWp1zpMyWneTZ8e/VffWxSkscXSOwv5qddZMGQXHybPhbzq0/L4m3T8ApINpmqrZf0CeBk/Y97Rt21o5OTla/ska3T3+IQ0dMliTx49VXl5uE5YUQLqR2Gagg7W1mvP8fL38ylty19WFvD561EW67eafN0PJgCObo+MQ5Zw8Qc4u35ccobdHT/m7qnv7smYoWfKcPS+Ro8MgyZknR8kFkkhsAWS/urpDmlI6Q0uXrwr7nqkPjdeQUwc2YakANAcS2wzzzeatmvDgY9qybbskqaiwQO3atpEkeTwe7drzrerqDjVnEYEjkqOwv1qd+YQcxSc0/qL+gLwHtkqmV0brrjJyCyWHs3kLmQTPloVy9hguo30feb6ZH/BaqzOmy9njQnmr1qnu7ZHNVEIASI5/nclfbm6rZigNgKZGYptB9ny7V1NKZ2jLtu3q2b2b7v7NTTrpxO/JYRi+97jr6rR1245mLCVwZHL1v0mOogGS6ZVny2s69MFNMuv3+1539rpEjoL+zVjC5Hir1sn9+g9tX3N0+b6MNj2kfRubuFQAkDrX/nSUrvjJj5u7GACaCYlthmho8Oip517U+o2b1a9Pbz30u3vUpXPHkPfl5eaqX5/ezVBC4MhmFB4rGQ6Z9fvlKVsYkNRKkqdsoTxa2EylAwAAQCQkthliw6bN+uCjFXI4HPrZ/4y0TWrjVb5jl/701N/04dJP1NDgUV5urkYMH6afX3O5igoLfO/7dm+l5s5/Te+8v0Tf7q2UJLVv305X/OTH+p8rLlFe7neTK7z59r/19xf/qROPP04/+5+RevyPz2jFp5/pip/8mHG/yG71ByRJhjNXjg4nSRtfiPj23B/OlaPLOTKrv5J74bkBr7UaOk3OvlfLPLhDhz78tby7Pgr5+5wTx8p1/K9l5HeSZEj1B9Sw5TXVf/wbX1Lt6HymWp31Rxmtu8q7c7HMfd/I2e8aGa0KJZnyVq9X/fLfyqyrOjw2+CzJ0UoyPfJ+u1KHlv1W3j3LQ7bl2fC8Di0d6/sMhjNPkuTsdIbyf7ZT8h5SwxczVP/Zo0keVADIfPHUg6TG3nP/mLdQ8/75pvbtq1Febq4uOO9s/fhHP9DM2X+VJN1316/Uq2dJk38WoCUjsc0Q677eqP37D6h3z+4aeOL3kt7e+g3f6N6Jf9C3eytV0q2LvndcH63+bK3mv/qWvlq/UVMm3q0OxUWSpOf+Pk+vvP4vdTyqWEOHDFZ1dY3Wb/xGz/x1rg4cOKhbbrhGTmfj2MIDB2u1Zdt2tW/fTo9M/5NWf7ZWkhj3i6zn3bNczpLzJGe+XP1vlHKLVf/pZJkHyu3/wNVaRk5bma7Q8Vxy5srIaSvltJHhyAl52dG2t5yD/1eNCe1ByZUn5bSRq89oGa3aqe6d0ZIkw5EjI6eNjJy2chx1ioySH0neOslTJzlz5Sg4VjmnTpEMQ47C/lLDQck0G1/rOEQ5p0z0zb7svy05cwM+Q0C5nbmS99B37wGAI1y89aApjzyhD5eulCR1PKpYrXJy9Oa//q0lH3+iAwcPKj8/T/UNDc35kYAWicQ2Q2zcVCZJKunWWa39lvNJRHV1jaY+8aQqKqt1xy3XadRPfiyHYQTcjN96Z7GuGd04u+vRvXvor09OU68eJTIOj+dd8vEKTfr943p/8ce67KIL1L2ka8A+vlj7lQae+D29+NxMdTyqg2pq9oeUA8gm9Z89JqPgOLn6XNWY3Pa9Rs7uF8rzzUuq/3x6+AQ3AUa7XvJs/7cOLblF5oFyOXterFZDH5PRpkTOLufK1f+Xalj3ZODftCpQ/ZczVP/JhMaJrr4/W46jTmkcF+xxq/6zqapf+YAcHYco95ynZLQ/Ro6i4+XsMUKerW/YlsNKevNGfiJHYf9mWYYIAFLlm81bfAmnpaB9W33vuL6+xNROPPWgN9/+tz5culJHdSjShHvv0KCTBsgwDG0r36Hxk6eqsqpa+fl56fuQAMJyNHcBEOioDsUhXV7iteqzL/XfrzZo0EkD9OPhw3yTT7Vpna9LL7pAkrTm87VyuxuXEhp16YXq3bO772YuScf3P1ZdOndSVfU+7a2oCtlHQUE7/eZX16trl05yuZwqKioIeQ+QbQ59cJPqVz4g071HkmTkdZDre7co79Ilch1/e8r2Y+7bpPpl9/iSZc+W1xoTWY9bymktR/GJIX/jrfpKDWseOfz/6+TZ9q/GllVJnt1LVb/ygcbX9iyXZ/fHjeV3tpaRd1TKyg0AmWzhm+/qvt89EvDz1xfmq74+cutprPWgAwcO6j9LlkqSLv/JCA0eeLzvb7qXdNUN/+8qORxUrYHmQotthtlXs1/19fXKyQntvhirNZ//V5KU43L5ugpbtu/Yqfz8PG3fsVu1tW7f4uQ1+w/oy7Vf679fbdDW8u3677oN2rXnWzU0eGy7GR/b9xiVdO2ccBmBTFX/+TQ1bHpROSeOkfPoK2XkdZCR11GtTpkoI7dQ9Z8+mPQ+vFXr5K1aF/i7bz+VWVclo3UXGe2PCfkb81BlwIRW5r6NMj2HZDhayawpC3zv/q2HuxPnyGjbM+nyAkA2OOmE7+nYfkcH/K57ty5yOqMnm7HUg3Z/u1dbt21X6/x8DT5pQMg2unXtrHbtbIanAGgSJLYZom2b1pKkHTt3q9Zdl1Ri23B4XMeyT1Zr2Sero7zXozn/mK85L8xXQ4NHUuN4kXbt2srldPl+F8zpdAQ82QSOJOaBch1aereMz6er1emPytljRGP35GOukmfrIt+ETAlv3/2tzS89krxJbRcAWrIffH9o3Mv9xFMP8ni88ni9ymnlUqtWrI0LZBoS2wwxaODxemHeQm3avEVf/vdrnTHk5KS3eeEF5+rWG35m+5rD4VC79m215KMVeu7vL6u4qEDj77lNgwedIIdhqLKyWrffM0lbtqZuXCGQbcwD5ap772rljXhbjs5nSnlHydG+T/TE1pHArTW3WHIeHl9/eIZmAEB6fbRsJfUg4AjBQIAM0b9fHx3X7xgdOlSvp579h/Z8uzfhbXU8qliSdPCgW23atFZRUUHIT0FBOzkMQ6vWfCmv16vh55+jUwaf6BuPW1d/yNfyC7R03ppvwr5mtGovZ9fA5X4c7ftE3J6j8LjQ3x01uHGGYm+DvPs2JlZQAEBc4qkH5eW2Um6rVqqpOaDtO3aFbGv7jl2qqeHBJNBcSGwzREFBO/38msuVl5ur9Rs3a8y9D2r1Z2vlNU3fe7ymqbIt5XrvP6FrYvobcuogtW3bRss/Wa3lK1fL9NuGJO3cvUeVldWSvuu2XFFV7etu4zVN/eeDpbY3beBIlXvBy8q98HU5u3w/4PfOnhfL2fUHjf+o3yfz4PbG/3c3Pnwy8o6So9sw3/tdx/9aRmHo2Ct/jg6DlHPK777bR/cfyXXMVZIjR2Zdhbw7/p2CTxQ/o3W3wOV/AOAIF089qFPHo9T/2L7yer167u/zAhoh9ny7V8/9fZ68XoaUAM2FrsgZ5IwhJ+s3v/qF/r//+4u2bNuuO+6ZpLzcXHXs2NgCu2dPhdx1dbrsogt03rlnht1Ovz69ddHwYXrx5dd0/+THdPz3+um4YxtbkNZv+EZbt+3Q1N+PV1FRgU47ZaAWvvmuFr2zWN/urVSvniUq21KuDRs3Ky83V+66uib57ECzc+bK2fVcObueIzUclGmaMmQ0rjFrOCXTI0/5O/Ls+I8kybP933KU/FBGqwLlnHCnXL1HSjJltOkhs74m8r4crZRz4li5jr5CpqdOjrY9JVfrxn1se0uebW+n//P6MWt3SoX95Sjop7zLlsr01Mmz8R+q/+zRJi0HADS1eOpBrVrl6Iqf/FjLP1mt9Rs36xe3jtPZQ0+VJC1Z+om6du6o1vnJLdkIIHG02GYQwzB00YXn6en/K9W5Z58ul8spd12dtm7boa3bdshdV6eSbl00yGYmPn9Op1M3X3+Nxtx2g9q2baPPv/xK8xa8oXkL3tCX//1aQ08brE6Huyufefop+vk1l8vhMLRi5RrNW/CGDhw4qMn3j1WnTiwTgpbDrFon89Dhpa1cbRpbLnPaSIZDZu0u1a98QIeW/Mr3/oav/yLPxhcax8M6XDLa95HRvo+8e1ZETUy9e5bLW7VORrvechT2l1ytZR7ap4a1fwrYR1Np+OIJmfu3SDIay9T+aMmZ3LJjAJAN4q0HDTppgB5+YJy6dOqofftq9Mbb7+vt9xbrgmFn6ze/+oVyWtFmBDQXwwzupxqBaZoyTVMNDQ2qq6tTbh5PpdKpocGj/QcOyPQ2fkX5+Xm+5Xli5TVN1ezbL6/XK8NhqG2bNnK5Qhcpd7vrVFvrltPlVLu2bZjxuJnVuWuVm5srl8slwzDi/j6Cr1XnvK5pKumRx1HYX47ikxpbaSV5q7+W99uVYd9vtCmRo9MZMhw5Ud8bzNn1XBmtu8n0HJS3/N2A5XyampHTVo6S82U4W8s8VCnP1rearSzZxHPFjpReq8RVoHnEWw/yr19Z9bO169Zr7G+nqLCwvR4vnagunTo2UemBI0cydWAeK2Uwl8upwoL2SW3DYRgqKGgX9X15eblxJ83AkchujdlIzAPl8nwzL6F9Wd2aM4FZv1+eza80dzEAoFnEWw8Krl+ZpqmVq77QwdpanXRifxW2T67+BiB+dEUGAAAAYrCtfIfWfb0xZHLPd95fojkvzJfD4dCw759BYwHQDGixBQAAAGKwfcdu3T3+IbVp01odigolSTX7D6iyqnG1iStGjtAF530/0iYApAmJLQAAABCDbl076dSTT9IXX36lLdsal39zuZwaeOL39NMrL9XQISf71sIF0LRIbAEAAIAYdC/pqmkP39/cxQBggzG2AAAAAICsRmILAAAAAMhqJLYAAAAAgKxGYgsAAAAAyGoktgAAAACArEZiCwAAAADIaiS2AAAAAICsRmILAAAAAMhqJLYAAAAAgKxGYgsAAAAAyGoktgAAAACArEZiCwAAAADIakkltqZppqocAA5Lx3VlOlqlfJtAS5eO64q4CgBoqZKNgQkltoZhyOFwyOPxJLVzAKE8Ho8cDocMw0h6W9a16i0alIKSAfDnLRqU8muVuAoAaKmSrQMnnNgahiFPQ31COwUQnqeh3neNJcvajvfoa1NQMgD+vEdfm/JrlbgKAGipkq0Dx5XYWjsyDENOp1Omacrtrk1oxwBCud21Mk1TTqcz4HqLV/C1avS6XIeOviENJQZapkNH3yCj1+Upv1aJqwCAligVdWDDjLMzs2maMk1THo9H9fX1OnTokEzTVE6rXOXk5KTkyTXQkpimqfr6etUfqpNhGGrVqpVycnICLuxEtxt8rXq+eUmusr/LVf2ZDO+hFH8S4MhmOlqpoeAkNfS6Rs6jr0zrtUpcBQAc6VJdB447sbUK4fV65fF41NDQEPDj9Xrj3RzQojkcDrlcroAfp9OZkrF7XKtA6nCtAgCQOqmOq65kCiLJ133K5XL5AjOA2FkXr3UhWz+p3L7EtQoki2sVAIDUSXVcTajFVvpuOmarC5X/D4DY+Y8j8O92karuh1yrQGpwrQIAkDqpjqsJJ7YW/0AMIHGpriQH41oFUoNrFQCA1ElVXE24K3JwQQAkJ93XEtcqkBpcqwAApE6q4l7SLbYAAAAAADSn1M16AQAAAABAMyCxBQAAAABkNRJbAAAAAEBWI7EFAAAAAGQ1ElsAAAAAQFYjsQUAAAAAZDUSWwAAAABAViOxBQAAAABkNRJbAAAAAEBW+/8BuTMoyB6/NdQAAAAASUVORK5CYII=)"
      ],
      "metadata": {
        "id": "VzhDaEjAbwKT"
      }
    },
    {
      "cell_type": "markdown",
      "source": [
        "輸入：WHAT THE FUCK IS THIS GARBAGE! DO NOT WATCH THIS MOVIE UNLESS YOU ARE AN IDIOT!\n",
        "![image.png](data:image/png;base64,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)"
      ],
      "metadata": {
        "id": "gab0W4k3cwN2"
      }
    }
  ]
}